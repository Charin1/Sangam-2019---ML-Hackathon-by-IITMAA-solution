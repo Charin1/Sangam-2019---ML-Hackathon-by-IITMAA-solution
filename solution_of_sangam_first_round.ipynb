{
  "nbformat": 4,
  "nbformat_minor": 0,
  "metadata": {
    "colab": {
      "name": "solution of sangam first round.ipynb",
      "provenance": [],
      "collapsed_sections": []
    },
    "kernelspec": {
      "name": "python3",
      "display_name": "Python 3"
    }
  },
  "cells": [
    {
      "cell_type": "code",
      "metadata": {
        "id": "r21taAkFeodY",
        "colab_type": "code",
        "colab": {
          "base_uri": "https://localhost:8080/",
          "height": 258
        },
        "outputId": "d25cf901-9f7c-47ae-9588-f6c2eb2f5815"
      },
      "source": [
        "!pip install pydrive"
      ],
      "execution_count": null,
      "outputs": [
        {
          "output_type": "stream",
          "text": [
            "Requirement already satisfied: pydrive in /usr/local/lib/python3.6/dist-packages (1.3.1)\n",
            "Requirement already satisfied: google-api-python-client>=1.2 in /usr/local/lib/python3.6/dist-packages (from pydrive) (1.7.9)\n",
            "Requirement already satisfied: PyYAML>=3.0 in /usr/local/lib/python3.6/dist-packages (from pydrive) (3.13)\n",
            "Requirement already satisfied: oauth2client>=4.0.0 in /usr/local/lib/python3.6/dist-packages (from pydrive) (4.1.3)\n",
            "Requirement already satisfied: six<2dev,>=1.6.1 in /usr/local/lib/python3.6/dist-packages (from google-api-python-client>=1.2->pydrive) (1.12.0)\n",
            "Requirement already satisfied: google-auth-httplib2>=0.0.3 in /usr/local/lib/python3.6/dist-packages (from google-api-python-client>=1.2->pydrive) (0.0.3)\n",
            "Requirement already satisfied: httplib2<1dev,>=0.9.2 in /usr/local/lib/python3.6/dist-packages (from google-api-python-client>=1.2->pydrive) (0.11.3)\n",
            "Requirement already satisfied: google-auth>=1.4.1 in /usr/local/lib/python3.6/dist-packages (from google-api-python-client>=1.2->pydrive) (1.4.2)\n",
            "Requirement already satisfied: uritemplate<4dev,>=3.0.0 in /usr/local/lib/python3.6/dist-packages (from google-api-python-client>=1.2->pydrive) (3.0.0)\n",
            "Requirement already satisfied: rsa>=3.1.4 in /usr/local/lib/python3.6/dist-packages (from oauth2client>=4.0.0->pydrive) (4.0)\n",
            "Requirement already satisfied: pyasn1>=0.1.7 in /usr/local/lib/python3.6/dist-packages (from oauth2client>=4.0.0->pydrive) (0.4.5)\n",
            "Requirement already satisfied: pyasn1-modules>=0.0.5 in /usr/local/lib/python3.6/dist-packages (from oauth2client>=4.0.0->pydrive) (0.2.5)\n",
            "Requirement already satisfied: cachetools>=2.0.0 in /usr/local/lib/python3.6/dist-packages (from google-auth>=1.4.1->google-api-python-client>=1.2->pydrive) (3.1.1)\n"
          ],
          "name": "stdout"
        }
      ]
    },
    {
      "cell_type": "code",
      "metadata": {
        "id": "o_TK7VLBfUii",
        "colab_type": "code",
        "colab": {}
      },
      "source": [
        "from pydrive.auth import GoogleAuth\n",
        "from pydrive.drive import GoogleDrive\n",
        "from google.colab import auth\n",
        "from oauth2client.client import GoogleCredentials"
      ],
      "execution_count": null,
      "outputs": []
    },
    {
      "cell_type": "code",
      "metadata": {
        "id": "Kv3rGUymfWUh",
        "colab_type": "code",
        "colab": {}
      },
      "source": [
        "def GoogleDriveAuth(ID):\n",
        "    auth.authenticate_user()\n",
        "    gauth = GoogleAuth()\n",
        "    gauth.credentials = GoogleCredentials.get_application_default()\n",
        "    drive = GoogleDrive(gauth)\n",
        "    file = drive.CreateFile({'id': ID})\n",
        "    return file"
      ],
      "execution_count": null,
      "outputs": []
    },
    {
      "cell_type": "code",
      "metadata": {
        "id": "8FHHT8uGfjIl",
        "colab_type": "code",
        "colab": {}
      },
      "source": [
        "File_ID = '' #insert file id\n",
        "file_name = GoogleDriveAuth(File_ID)\n",
        "file_name.GetContentFile('Train.csv','iso-8859-1')"
      ],
      "execution_count": null,
      "outputs": []
    },
    {
      "cell_type": "code",
      "metadata": {
        "id": "d_FMCG36fXvw",
        "colab_type": "code",
        "colab": {}
      },
      "source": [
        "File_ID = '' #insert file id\n",
        "file_name = GoogleDriveAuth(File_ID)\n",
        "file_name.GetContentFile('Test.csv','iso-8859-1')"
      ],
      "execution_count": null,
      "outputs": []
    },
    {
      "cell_type": "code",
      "metadata": {
        "id": "hZOXiNfpfzUg",
        "colab_type": "code",
        "colab": {}
      },
      "source": [
        "import pandas as pd  \n",
        "import numpy as np\n",
        "import matplotlib.pyplot as plt\n",
        "import math\n",
        "from datetime import  datetime"
      ],
      "execution_count": null,
      "outputs": []
    },
    {
      "cell_type": "code",
      "metadata": {
        "id": "H9nwmB0_frP8",
        "colab_type": "code",
        "colab": {
          "base_uri": "https://localhost:8080/",
          "height": 309
        },
        "outputId": "24f94e33-7709-4197-b249-c08a4da40279"
      },
      "source": [
        "df = pd.read_csv(\"Train.csv\")\n",
        "df.head()"
      ],
      "execution_count": null,
      "outputs": [
        {
          "output_type": "execute_result",
          "data": {
            "text/html": [
              "<div>\n",
              "<style scoped>\n",
              "    .dataframe tbody tr th:only-of-type {\n",
              "        vertical-align: middle;\n",
              "    }\n",
              "\n",
              "    .dataframe tbody tr th {\n",
              "        vertical-align: top;\n",
              "    }\n",
              "\n",
              "    .dataframe thead th {\n",
              "        text-align: right;\n",
              "    }\n",
              "</style>\n",
              "<table border=\"1\" class=\"dataframe\">\n",
              "  <thead>\n",
              "    <tr style=\"text-align: right;\">\n",
              "      <th></th>\n",
              "      <th>date_time</th>\n",
              "      <th>is_holiday</th>\n",
              "      <th>air_pollution_index</th>\n",
              "      <th>humidity</th>\n",
              "      <th>wind_speed</th>\n",
              "      <th>wind_direction</th>\n",
              "      <th>visibility_in_miles</th>\n",
              "      <th>dew_point</th>\n",
              "      <th>temperature</th>\n",
              "      <th>rain_p_h</th>\n",
              "      <th>snow_p_h</th>\n",
              "      <th>clouds_all</th>\n",
              "      <th>weather_type</th>\n",
              "      <th>weather_description</th>\n",
              "      <th>traffic_volume</th>\n",
              "    </tr>\n",
              "  </thead>\n",
              "  <tbody>\n",
              "    <tr>\n",
              "      <th>0</th>\n",
              "      <td>2012-10-02 09:00:00</td>\n",
              "      <td>None</td>\n",
              "      <td>121</td>\n",
              "      <td>89</td>\n",
              "      <td>2</td>\n",
              "      <td>329</td>\n",
              "      <td>1</td>\n",
              "      <td>1</td>\n",
              "      <td>288.28</td>\n",
              "      <td>0.0</td>\n",
              "      <td>0.0</td>\n",
              "      <td>40</td>\n",
              "      <td>Clouds</td>\n",
              "      <td>scattered clouds</td>\n",
              "      <td>5545</td>\n",
              "    </tr>\n",
              "    <tr>\n",
              "      <th>1</th>\n",
              "      <td>2012-10-02 10:00:00</td>\n",
              "      <td>None</td>\n",
              "      <td>178</td>\n",
              "      <td>67</td>\n",
              "      <td>3</td>\n",
              "      <td>330</td>\n",
              "      <td>1</td>\n",
              "      <td>1</td>\n",
              "      <td>289.36</td>\n",
              "      <td>0.0</td>\n",
              "      <td>0.0</td>\n",
              "      <td>75</td>\n",
              "      <td>Clouds</td>\n",
              "      <td>broken clouds</td>\n",
              "      <td>4516</td>\n",
              "    </tr>\n",
              "    <tr>\n",
              "      <th>2</th>\n",
              "      <td>2012-10-02 11:00:00</td>\n",
              "      <td>None</td>\n",
              "      <td>113</td>\n",
              "      <td>66</td>\n",
              "      <td>3</td>\n",
              "      <td>329</td>\n",
              "      <td>2</td>\n",
              "      <td>2</td>\n",
              "      <td>289.58</td>\n",
              "      <td>0.0</td>\n",
              "      <td>0.0</td>\n",
              "      <td>90</td>\n",
              "      <td>Clouds</td>\n",
              "      <td>overcast clouds</td>\n",
              "      <td>4767</td>\n",
              "    </tr>\n",
              "    <tr>\n",
              "      <th>3</th>\n",
              "      <td>2012-10-02 12:00:00</td>\n",
              "      <td>None</td>\n",
              "      <td>20</td>\n",
              "      <td>66</td>\n",
              "      <td>3</td>\n",
              "      <td>329</td>\n",
              "      <td>5</td>\n",
              "      <td>5</td>\n",
              "      <td>290.13</td>\n",
              "      <td>0.0</td>\n",
              "      <td>0.0</td>\n",
              "      <td>90</td>\n",
              "      <td>Clouds</td>\n",
              "      <td>overcast clouds</td>\n",
              "      <td>5026</td>\n",
              "    </tr>\n",
              "    <tr>\n",
              "      <th>4</th>\n",
              "      <td>2012-10-02 13:00:00</td>\n",
              "      <td>None</td>\n",
              "      <td>281</td>\n",
              "      <td>65</td>\n",
              "      <td>3</td>\n",
              "      <td>329</td>\n",
              "      <td>7</td>\n",
              "      <td>7</td>\n",
              "      <td>291.14</td>\n",
              "      <td>0.0</td>\n",
              "      <td>0.0</td>\n",
              "      <td>75</td>\n",
              "      <td>Clouds</td>\n",
              "      <td>broken clouds</td>\n",
              "      <td>4918</td>\n",
              "    </tr>\n",
              "  </tbody>\n",
              "</table>\n",
              "</div>"
            ],
            "text/plain": [
              "             date_time is_holiday  ...  weather_description  traffic_volume\n",
              "0  2012-10-02 09:00:00       None  ...     scattered clouds            5545\n",
              "1  2012-10-02 10:00:00       None  ...        broken clouds            4516\n",
              "2  2012-10-02 11:00:00       None  ...      overcast clouds            4767\n",
              "3  2012-10-02 12:00:00       None  ...      overcast clouds            5026\n",
              "4  2012-10-02 13:00:00       None  ...        broken clouds            4918\n",
              "\n",
              "[5 rows x 15 columns]"
            ]
          },
          "metadata": {
            "tags": []
          },
          "execution_count": 1406
        }
      ]
    },
    {
      "cell_type": "code",
      "metadata": {
        "id": "eu63Sw-Hf2hU",
        "colab_type": "code",
        "colab": {
          "base_uri": "https://localhost:8080/",
          "height": 289
        },
        "outputId": "a5df195c-d3f3-4172-93bd-e89f78da62a5"
      },
      "source": [
        "df.isnull().sum()"
      ],
      "execution_count": null,
      "outputs": [
        {
          "output_type": "execute_result",
          "data": {
            "text/plain": [
              "date_time              0\n",
              "is_holiday             0\n",
              "air_pollution_index    0\n",
              "humidity               0\n",
              "wind_speed             0\n",
              "wind_direction         0\n",
              "visibility_in_miles    0\n",
              "dew_point              0\n",
              "temperature            0\n",
              "rain_p_h               0\n",
              "snow_p_h               0\n",
              "clouds_all             0\n",
              "weather_type           0\n",
              "weather_description    0\n",
              "traffic_volume         0\n",
              "dtype: int64"
            ]
          },
          "metadata": {
            "tags": []
          },
          "execution_count": 1407
        }
      ]
    },
    {
      "cell_type": "code",
      "metadata": {
        "id": "22OxKe6MhZsl",
        "colab_type": "code",
        "colab": {
          "base_uri": "https://localhost:8080/",
          "height": 289
        },
        "outputId": "63dcc05f-473a-4a3c-cf04-dafe18f326eb"
      },
      "source": [
        "df.dtypes"
      ],
      "execution_count": null,
      "outputs": [
        {
          "output_type": "execute_result",
          "data": {
            "text/plain": [
              "date_time               object\n",
              "is_holiday              object\n",
              "air_pollution_index      int64\n",
              "humidity                 int64\n",
              "wind_speed               int64\n",
              "wind_direction           int64\n",
              "visibility_in_miles      int64\n",
              "dew_point                int64\n",
              "temperature            float64\n",
              "rain_p_h               float64\n",
              "snow_p_h               float64\n",
              "clouds_all               int64\n",
              "weather_type            object\n",
              "weather_description     object\n",
              "traffic_volume           int64\n",
              "dtype: object"
            ]
          },
          "metadata": {
            "tags": []
          },
          "execution_count": 1408
        }
      ]
    },
    {
      "cell_type": "code",
      "metadata": {
        "id": "p0X2jYuThewA",
        "colab_type": "code",
        "colab": {}
      },
      "source": [
        "df['date_time'] = pd.to_datetime(df.date_time)"
      ],
      "execution_count": null,
      "outputs": []
    },
    {
      "cell_type": "code",
      "metadata": {
        "id": "-4VswV44iC24",
        "colab_type": "code",
        "colab": {
          "base_uri": "https://localhost:8080/",
          "height": 289
        },
        "outputId": "06cd7259-ad7b-466e-9dc7-3315a0abdbec"
      },
      "source": [
        "df.dtypes"
      ],
      "execution_count": null,
      "outputs": [
        {
          "output_type": "execute_result",
          "data": {
            "text/plain": [
              "date_time              datetime64[ns]\n",
              "is_holiday                     object\n",
              "air_pollution_index             int64\n",
              "humidity                        int64\n",
              "wind_speed                      int64\n",
              "wind_direction                  int64\n",
              "visibility_in_miles             int64\n",
              "dew_point                       int64\n",
              "temperature                   float64\n",
              "rain_p_h                      float64\n",
              "snow_p_h                      float64\n",
              "clouds_all                      int64\n",
              "weather_type                   object\n",
              "weather_description            object\n",
              "traffic_volume                  int64\n",
              "dtype: object"
            ]
          },
          "metadata": {
            "tags": []
          },
          "execution_count": 1410
        }
      ]
    },
    {
      "cell_type": "code",
      "metadata": {
        "id": "FrYphWF0gZLz",
        "colab_type": "code",
        "colab": {}
      },
      "source": [
        "# df['date'] = df['date_time'].dt.date"
      ],
      "execution_count": null,
      "outputs": []
    },
    {
      "cell_type": "code",
      "metadata": {
        "id": "ajTNdXmng9qM",
        "colab_type": "code",
        "colab": {}
      },
      "source": [
        "df['time'] = df['date_time'].dt.time"
      ],
      "execution_count": null,
      "outputs": []
    },
    {
      "cell_type": "code",
      "metadata": {
        "id": "Vpsl4YU8ihJf",
        "colab_type": "code",
        "colab": {
          "base_uri": "https://localhost:8080/",
          "height": 34
        },
        "outputId": "4ab2dc37-dc7b-43b6-faf4-b4ff2628ffef"
      },
      "source": [
        "df.shape"
      ],
      "execution_count": null,
      "outputs": [
        {
          "output_type": "execute_result",
          "data": {
            "text/plain": [
              "(33750, 16)"
            ]
          },
          "metadata": {
            "tags": []
          },
          "execution_count": 1413
        }
      ]
    },
    {
      "cell_type": "code",
      "metadata": {
        "id": "88cJYUxwiWTM",
        "colab_type": "code",
        "colab": {}
      },
      "source": [
        "df = df.drop('date_time',axis = 1)"
      ],
      "execution_count": null,
      "outputs": []
    },
    {
      "cell_type": "code",
      "metadata": {
        "id": "PwxXgXbnionI",
        "colab_type": "code",
        "colab": {
          "base_uri": "https://localhost:8080/",
          "height": 34
        },
        "outputId": "d20f6539-a85a-4dfc-cd29-06148a939616"
      },
      "source": [
        "df.shape"
      ],
      "execution_count": null,
      "outputs": [
        {
          "output_type": "execute_result",
          "data": {
            "text/plain": [
              "(33750, 15)"
            ]
          },
          "metadata": {
            "tags": []
          },
          "execution_count": 1415
        }
      ]
    },
    {
      "cell_type": "code",
      "metadata": {
        "id": "nlDEbN7XiQEj",
        "colab_type": "code",
        "colab": {
          "base_uri": "https://localhost:8080/",
          "height": 224
        },
        "outputId": "f5dc370a-99ac-41df-a144-0ef61d179c60"
      },
      "source": [
        "df.head()"
      ],
      "execution_count": null,
      "outputs": [
        {
          "output_type": "execute_result",
          "data": {
            "text/html": [
              "<div>\n",
              "<style scoped>\n",
              "    .dataframe tbody tr th:only-of-type {\n",
              "        vertical-align: middle;\n",
              "    }\n",
              "\n",
              "    .dataframe tbody tr th {\n",
              "        vertical-align: top;\n",
              "    }\n",
              "\n",
              "    .dataframe thead th {\n",
              "        text-align: right;\n",
              "    }\n",
              "</style>\n",
              "<table border=\"1\" class=\"dataframe\">\n",
              "  <thead>\n",
              "    <tr style=\"text-align: right;\">\n",
              "      <th></th>\n",
              "      <th>is_holiday</th>\n",
              "      <th>air_pollution_index</th>\n",
              "      <th>humidity</th>\n",
              "      <th>wind_speed</th>\n",
              "      <th>wind_direction</th>\n",
              "      <th>visibility_in_miles</th>\n",
              "      <th>dew_point</th>\n",
              "      <th>temperature</th>\n",
              "      <th>rain_p_h</th>\n",
              "      <th>snow_p_h</th>\n",
              "      <th>clouds_all</th>\n",
              "      <th>weather_type</th>\n",
              "      <th>weather_description</th>\n",
              "      <th>traffic_volume</th>\n",
              "      <th>time</th>\n",
              "    </tr>\n",
              "  </thead>\n",
              "  <tbody>\n",
              "    <tr>\n",
              "      <th>0</th>\n",
              "      <td>None</td>\n",
              "      <td>121</td>\n",
              "      <td>89</td>\n",
              "      <td>2</td>\n",
              "      <td>329</td>\n",
              "      <td>1</td>\n",
              "      <td>1</td>\n",
              "      <td>288.28</td>\n",
              "      <td>0.0</td>\n",
              "      <td>0.0</td>\n",
              "      <td>40</td>\n",
              "      <td>Clouds</td>\n",
              "      <td>scattered clouds</td>\n",
              "      <td>5545</td>\n",
              "      <td>09:00:00</td>\n",
              "    </tr>\n",
              "    <tr>\n",
              "      <th>1</th>\n",
              "      <td>None</td>\n",
              "      <td>178</td>\n",
              "      <td>67</td>\n",
              "      <td>3</td>\n",
              "      <td>330</td>\n",
              "      <td>1</td>\n",
              "      <td>1</td>\n",
              "      <td>289.36</td>\n",
              "      <td>0.0</td>\n",
              "      <td>0.0</td>\n",
              "      <td>75</td>\n",
              "      <td>Clouds</td>\n",
              "      <td>broken clouds</td>\n",
              "      <td>4516</td>\n",
              "      <td>10:00:00</td>\n",
              "    </tr>\n",
              "    <tr>\n",
              "      <th>2</th>\n",
              "      <td>None</td>\n",
              "      <td>113</td>\n",
              "      <td>66</td>\n",
              "      <td>3</td>\n",
              "      <td>329</td>\n",
              "      <td>2</td>\n",
              "      <td>2</td>\n",
              "      <td>289.58</td>\n",
              "      <td>0.0</td>\n",
              "      <td>0.0</td>\n",
              "      <td>90</td>\n",
              "      <td>Clouds</td>\n",
              "      <td>overcast clouds</td>\n",
              "      <td>4767</td>\n",
              "      <td>11:00:00</td>\n",
              "    </tr>\n",
              "    <tr>\n",
              "      <th>3</th>\n",
              "      <td>None</td>\n",
              "      <td>20</td>\n",
              "      <td>66</td>\n",
              "      <td>3</td>\n",
              "      <td>329</td>\n",
              "      <td>5</td>\n",
              "      <td>5</td>\n",
              "      <td>290.13</td>\n",
              "      <td>0.0</td>\n",
              "      <td>0.0</td>\n",
              "      <td>90</td>\n",
              "      <td>Clouds</td>\n",
              "      <td>overcast clouds</td>\n",
              "      <td>5026</td>\n",
              "      <td>12:00:00</td>\n",
              "    </tr>\n",
              "    <tr>\n",
              "      <th>4</th>\n",
              "      <td>None</td>\n",
              "      <td>281</td>\n",
              "      <td>65</td>\n",
              "      <td>3</td>\n",
              "      <td>329</td>\n",
              "      <td>7</td>\n",
              "      <td>7</td>\n",
              "      <td>291.14</td>\n",
              "      <td>0.0</td>\n",
              "      <td>0.0</td>\n",
              "      <td>75</td>\n",
              "      <td>Clouds</td>\n",
              "      <td>broken clouds</td>\n",
              "      <td>4918</td>\n",
              "      <td>13:00:00</td>\n",
              "    </tr>\n",
              "  </tbody>\n",
              "</table>\n",
              "</div>"
            ],
            "text/plain": [
              "  is_holiday  air_pollution_index  ...  traffic_volume      time\n",
              "0       None                  121  ...            5545  09:00:00\n",
              "1       None                  178  ...            4516  10:00:00\n",
              "2       None                  113  ...            4767  11:00:00\n",
              "3       None                   20  ...            5026  12:00:00\n",
              "4       None                  281  ...            4918  13:00:00\n",
              "\n",
              "[5 rows x 15 columns]"
            ]
          },
          "metadata": {
            "tags": []
          },
          "execution_count": 1416
        }
      ]
    },
    {
      "cell_type": "code",
      "metadata": {
        "id": "m4UaBMddnMWg",
        "colab_type": "code",
        "colab": {
          "base_uri": "https://localhost:8080/",
          "height": 289
        },
        "outputId": "8b4ed030-b5ba-4540-f4aa-28277a676b56"
      },
      "source": [
        "df.dtypes"
      ],
      "execution_count": null,
      "outputs": [
        {
          "output_type": "execute_result",
          "data": {
            "text/plain": [
              "is_holiday              object\n",
              "air_pollution_index      int64\n",
              "humidity                 int64\n",
              "wind_speed               int64\n",
              "wind_direction           int64\n",
              "visibility_in_miles      int64\n",
              "dew_point                int64\n",
              "temperature            float64\n",
              "rain_p_h               float64\n",
              "snow_p_h               float64\n",
              "clouds_all               int64\n",
              "weather_type            object\n",
              "weather_description     object\n",
              "traffic_volume           int64\n",
              "time                    object\n",
              "dtype: object"
            ]
          },
          "metadata": {
            "tags": []
          },
          "execution_count": 1417
        }
      ]
    },
    {
      "cell_type": "markdown",
      "metadata": {
        "id": "poP_QWFNP_HR",
        "colab_type": "text"
      },
      "source": [
        "## **Analysis of data**"
      ]
    },
    {
      "cell_type": "code",
      "metadata": {
        "id": "ylKc7cuNQMZ8",
        "colab_type": "code",
        "colab": {
          "base_uri": "https://localhost:8080/",
          "height": 680
        },
        "outputId": "f751e2fb-14af-4dfc-8bcb-ce5723600543"
      },
      "source": [
        "pd.value_counts(df['weather_description'])"
      ],
      "execution_count": null,
      "outputs": [
        {
          "output_type": "execute_result",
          "data": {
            "text/plain": [
              "sky is clear                           7524\n",
              "mist                                   4047\n",
              "overcast clouds                        3972\n",
              "broken clouds                          3379\n",
              "light rain                             2442\n",
              "scattered clouds                       2294\n",
              "Sky is Clear                           1709\n",
              "few clouds                             1568\n",
              "light snow                             1280\n",
              "moderate rain                          1105\n",
              "haze                                    902\n",
              "light intensity drizzle                 703\n",
              "heavy snow                              587\n",
              "fog                                     567\n",
              "drizzle                                 460\n",
              "proximity thunderstorm                  345\n",
              "heavy intensity rain                    311\n",
              "snow                                    190\n",
              "thunderstorm                             66\n",
              "proximity shower rain                    54\n",
              "thunderstorm with heavy rain             42\n",
              "heavy intensity drizzle                  40\n",
              "thunderstorm with light rain             35\n",
              "proximity thunderstorm with rain         25\n",
              "thunderstorm with rain                   23\n",
              "very heavy rain                          18\n",
              "smoke                                    17\n",
              "proximity thunderstorm with drizzle      11\n",
              "light intensity shower rain               8\n",
              "light rain and snow                       6\n",
              "SQUALLS                                   4\n",
              "thunderstorm with light drizzle           4\n",
              "light shower snow                         4\n",
              "thunderstorm with drizzle                 2\n",
              "freezing rain                             2\n",
              "sleet                                     2\n",
              "shower snow                               1\n",
              "shower drizzle                            1\n",
              "Name: weather_description, dtype: int64"
            ]
          },
          "metadata": {
            "tags": []
          },
          "execution_count": 1418
        }
      ]
    },
    {
      "cell_type": "code",
      "metadata": {
        "id": "7dDRF1NeQ66b",
        "colab_type": "code",
        "colab": {
          "base_uri": "https://localhost:8080/",
          "height": 221
        },
        "outputId": "6f6af826-a87e-4326-ba5e-678b23a2e5f2"
      },
      "source": [
        "pd.value_counts(df['weather_type'])"
      ],
      "execution_count": null,
      "outputs": [
        {
          "output_type": "execute_result",
          "data": {
            "text/plain": [
              "Clouds          11213\n",
              "Clear            9233\n",
              "Mist             4047\n",
              "Rain             3940\n",
              "Snow             2070\n",
              "Drizzle          1204\n",
              "Haze              902\n",
              "Fog               567\n",
              "Thunderstorm      553\n",
              "Smoke              17\n",
              "Squall              4\n",
              "Name: weather_type, dtype: int64"
            ]
          },
          "metadata": {
            "tags": []
          },
          "execution_count": 1419
        }
      ]
    },
    {
      "cell_type": "code",
      "metadata": {
        "id": "uTjAO49SQ7it",
        "colab_type": "code",
        "colab": {
          "base_uri": "https://localhost:8080/",
          "height": 238
        },
        "outputId": "c265c87e-efd2-4fd4-f3e8-c5b577de4436"
      },
      "source": [
        "pd.value_counts(df['is_holiday'])"
      ],
      "execution_count": null,
      "outputs": [
        {
          "output_type": "execute_result",
          "data": {
            "text/plain": [
              "None                         33707\n",
              "New Years Day                    5\n",
              "Christmas Day                    5\n",
              "Thanksgiving Day                 5\n",
              "Veterans Day                     4\n",
              "Columbus Day                     4\n",
              "Labor Day                        4\n",
              "Washingtons Birthday             4\n",
              "Independence Day                 3\n",
              "State Fair                       3\n",
              "Martin Luther King Jr Day        3\n",
              "Memorial Day                     3\n",
              "Name: is_holiday, dtype: int64"
            ]
          },
          "metadata": {
            "tags": []
          },
          "execution_count": 1420
        }
      ]
    },
    {
      "cell_type": "code",
      "metadata": {
        "id": "8__tPLxUrN8s",
        "colab_type": "code",
        "colab": {
          "base_uri": "https://localhost:8080/",
          "height": 1000
        },
        "outputId": "e5990727-cb5c-4be1-c2c8-1671265c8c3a"
      },
      "source": [
        "pd.value_counts(df['rain_p_h'])"
      ],
      "execution_count": null,
      "outputs": [
        {
          "output_type": "execute_result",
          "data": {
            "text/plain": [
              "0.00     30996\n",
              "0.25       679\n",
              "0.51       241\n",
              "0.30       119\n",
              "0.76        97\n",
              "1.02        94\n",
              "0.38        84\n",
              "1.52        59\n",
              "0.64        53\n",
              "1.27        42\n",
              "0.60        32\n",
              "1.78        23\n",
              "0.89        21\n",
              "0.28        19\n",
              "0.44        18\n",
              "0.34        16\n",
              "1.80        16\n",
              "2.16        16\n",
              "1.09        16\n",
              "2.54        16\n",
              "0.42        15\n",
              "1.20        15\n",
              "2.03        15\n",
              "0.90        15\n",
              "1.40        15\n",
              "4.57        13\n",
              "2.29        13\n",
              "0.68        13\n",
              "2.79        12\n",
              "0.32        12\n",
              "         ...  \n",
              "2.93         1\n",
              "15.75        1\n",
              "12.83        1\n",
              "1.61         1\n",
              "2.68         1\n",
              "3.17         1\n",
              "2.96         1\n",
              "8.86         1\n",
              "4.66         1\n",
              "5.10         1\n",
              "2.08         1\n",
              "1.47         1\n",
              "1.25         1\n",
              "9.00         1\n",
              "0.80         1\n",
              "7.05         1\n",
              "5.73         1\n",
              "10.05        1\n",
              "2.78         1\n",
              "3.01         1\n",
              "2.73         1\n",
              "4.05         1\n",
              "16.51        1\n",
              "2.84         1\n",
              "2.19         1\n",
              "3.12         1\n",
              "1.53         1\n",
              "2.34         1\n",
              "0.92         1\n",
              "2.13         1\n",
              "Name: rain_p_h, Length: 353, dtype: int64"
            ]
          },
          "metadata": {
            "tags": []
          },
          "execution_count": 1421
        }
      ]
    },
    {
      "cell_type": "code",
      "metadata": {
        "id": "yEMZJdR8rNvN",
        "colab_type": "code",
        "colab": {
          "base_uri": "https://localhost:8080/",
          "height": 238
        },
        "outputId": "ff8211e1-aaab-4e90-d6b4-80e7bac5a7ad"
      },
      "source": [
        "pd.value_counts(df['snow_p_h'])"
      ],
      "execution_count": null,
      "outputs": [
        {
          "output_type": "execute_result",
          "data": {
            "text/plain": [
              "0.00    33687\n",
              "0.05       14\n",
              "0.06       12\n",
              "0.10        6\n",
              "0.13        6\n",
              "0.51        6\n",
              "0.25        6\n",
              "0.32        5\n",
              "0.17        3\n",
              "0.08        2\n",
              "0.44        2\n",
              "0.21        1\n",
              "Name: snow_p_h, dtype: int64"
            ]
          },
          "metadata": {
            "tags": []
          },
          "execution_count": 1422
        }
      ]
    },
    {
      "cell_type": "markdown",
      "metadata": {
        "id": "k72MsDFqQFGO",
        "colab_type": "text"
      },
      "source": [
        "### Data Cleaning"
      ]
    },
    {
      "cell_type": "code",
      "metadata": {
        "id": "sNINuOHWpTYX",
        "colab_type": "code",
        "colab": {}
      },
      "source": [
        "# df = pd.get_dummies(df, columns=['weather_description'], prefix = ['weather_description'])"
      ],
      "execution_count": null,
      "outputs": []
    },
    {
      "cell_type": "code",
      "metadata": {
        "id": "wdo3uzKNph5N",
        "colab_type": "code",
        "colab": {}
      },
      "source": [
        "df = pd.get_dummies(df, columns=['weather_type'], prefix = ['weather_type'])"
      ],
      "execution_count": null,
      "outputs": []
    },
    {
      "cell_type": "code",
      "metadata": {
        "id": "PJSUQ-ukVr2r",
        "colab_type": "code",
        "colab": {}
      },
      "source": [
        "df = df.drop('weather_description',axis = 1)\n",
        "# df = df.drop('weather_type',axis=1)\n",
        "# df = df.drop('is_holiday',axis=1)"
      ],
      "execution_count": null,
      "outputs": []
    },
    {
      "cell_type": "code",
      "metadata": {
        "id": "rii6xfLSoHb0",
        "colab_type": "code",
        "colab": {}
      },
      "source": [
        "# df = df.drop('rain_p_h',axis = 1)\n",
        "df = df.drop('snow_p_h',axis = 1)\n",
        "# df = df.drop('wind_speed',axis = 1)\n",
        "df = df.drop('wind_direction',axis = 1)\n",
        "# df = df.drop('humidity',axis = 1)\n",
        "df = df.drop('air_pollution_index',axis = 1)\n",
        "df = df.drop('visibility_in_miles',axis = 1)\n",
        "df = df.drop('dew_point',axis = 1)\n",
        "# df = df.drop('temperature',axis = 1)\n",
        "# df = df.drop('clouds_all',axis = 1)\n"
      ],
      "execution_count": null,
      "outputs": []
    },
    {
      "cell_type": "code",
      "metadata": {
        "id": "0CcDIIEnppGo",
        "colab_type": "code",
        "colab": {}
      },
      "source": [
        "df = pd.get_dummies(df, columns=['is_holiday'], prefix = ['is_holiday'])"
      ],
      "execution_count": null,
      "outputs": []
    },
    {
      "cell_type": "code",
      "metadata": {
        "id": "ftjK6jnBpy08",
        "colab_type": "code",
        "colab": {}
      },
      "source": [
        "# df = pd.get_dummies(df, columns=['date'], prefix = ['date'])"
      ],
      "execution_count": null,
      "outputs": []
    },
    {
      "cell_type": "code",
      "metadata": {
        "id": "LkaGkmtbpyv4",
        "colab_type": "code",
        "colab": {}
      },
      "source": [
        "df = pd.get_dummies(df, columns=['time'], prefix = ['time'])"
      ],
      "execution_count": null,
      "outputs": []
    },
    {
      "cell_type": "code",
      "metadata": {
        "id": "peFeTvSUp-P_",
        "colab_type": "code",
        "colab": {
          "base_uri": "https://localhost:8080/",
          "height": 34
        },
        "outputId": "4c88fe6d-bc41-4be0-baa5-3128526e9d82"
      },
      "source": [
        "df.shape"
      ],
      "execution_count": null,
      "outputs": [
        {
          "output_type": "execute_result",
          "data": {
            "text/plain": [
              "(33750, 53)"
            ]
          },
          "metadata": {
            "tags": []
          },
          "execution_count": 1430
        }
      ]
    },
    {
      "cell_type": "code",
      "metadata": {
        "id": "4lvzqd2hRP3R",
        "colab_type": "code",
        "colab": {
          "base_uri": "https://localhost:8080/",
          "height": 258
        },
        "outputId": "5d0748d9-d627-4766-da23-e9b05ab75f74"
      },
      "source": [
        "df.head()"
      ],
      "execution_count": null,
      "outputs": [
        {
          "output_type": "execute_result",
          "data": {
            "text/html": [
              "<div>\n",
              "<style scoped>\n",
              "    .dataframe tbody tr th:only-of-type {\n",
              "        vertical-align: middle;\n",
              "    }\n",
              "\n",
              "    .dataframe tbody tr th {\n",
              "        vertical-align: top;\n",
              "    }\n",
              "\n",
              "    .dataframe thead th {\n",
              "        text-align: right;\n",
              "    }\n",
              "</style>\n",
              "<table border=\"1\" class=\"dataframe\">\n",
              "  <thead>\n",
              "    <tr style=\"text-align: right;\">\n",
              "      <th></th>\n",
              "      <th>humidity</th>\n",
              "      <th>wind_speed</th>\n",
              "      <th>temperature</th>\n",
              "      <th>rain_p_h</th>\n",
              "      <th>clouds_all</th>\n",
              "      <th>traffic_volume</th>\n",
              "      <th>weather_type_Clear</th>\n",
              "      <th>weather_type_Clouds</th>\n",
              "      <th>weather_type_Drizzle</th>\n",
              "      <th>weather_type_Fog</th>\n",
              "      <th>weather_type_Haze</th>\n",
              "      <th>weather_type_Mist</th>\n",
              "      <th>weather_type_Rain</th>\n",
              "      <th>weather_type_Smoke</th>\n",
              "      <th>weather_type_Snow</th>\n",
              "      <th>weather_type_Squall</th>\n",
              "      <th>weather_type_Thunderstorm</th>\n",
              "      <th>is_holiday_Christmas Day</th>\n",
              "      <th>is_holiday_Columbus Day</th>\n",
              "      <th>is_holiday_Independence Day</th>\n",
              "      <th>is_holiday_Labor Day</th>\n",
              "      <th>is_holiday_Martin Luther King Jr Day</th>\n",
              "      <th>is_holiday_Memorial Day</th>\n",
              "      <th>is_holiday_New Years Day</th>\n",
              "      <th>is_holiday_None</th>\n",
              "      <th>is_holiday_State Fair</th>\n",
              "      <th>is_holiday_Thanksgiving Day</th>\n",
              "      <th>is_holiday_Veterans Day</th>\n",
              "      <th>is_holiday_Washingtons Birthday</th>\n",
              "      <th>time_00:00:00</th>\n",
              "      <th>time_01:00:00</th>\n",
              "      <th>time_02:00:00</th>\n",
              "      <th>time_03:00:00</th>\n",
              "      <th>time_04:00:00</th>\n",
              "      <th>time_05:00:00</th>\n",
              "      <th>time_06:00:00</th>\n",
              "      <th>time_07:00:00</th>\n",
              "      <th>time_08:00:00</th>\n",
              "      <th>time_09:00:00</th>\n",
              "      <th>time_10:00:00</th>\n",
              "      <th>time_11:00:00</th>\n",
              "      <th>time_12:00:00</th>\n",
              "      <th>time_13:00:00</th>\n",
              "      <th>time_14:00:00</th>\n",
              "      <th>time_15:00:00</th>\n",
              "      <th>time_16:00:00</th>\n",
              "      <th>time_17:00:00</th>\n",
              "      <th>time_18:00:00</th>\n",
              "      <th>time_19:00:00</th>\n",
              "      <th>time_20:00:00</th>\n",
              "      <th>time_21:00:00</th>\n",
              "      <th>time_22:00:00</th>\n",
              "      <th>time_23:00:00</th>\n",
              "    </tr>\n",
              "  </thead>\n",
              "  <tbody>\n",
              "    <tr>\n",
              "      <th>0</th>\n",
              "      <td>89</td>\n",
              "      <td>2</td>\n",
              "      <td>288.28</td>\n",
              "      <td>0.0</td>\n",
              "      <td>40</td>\n",
              "      <td>5545</td>\n",
              "      <td>0</td>\n",
              "      <td>1</td>\n",
              "      <td>0</td>\n",
              "      <td>0</td>\n",
              "      <td>0</td>\n",
              "      <td>0</td>\n",
              "      <td>0</td>\n",
              "      <td>0</td>\n",
              "      <td>0</td>\n",
              "      <td>0</td>\n",
              "      <td>0</td>\n",
              "      <td>0</td>\n",
              "      <td>0</td>\n",
              "      <td>0</td>\n",
              "      <td>0</td>\n",
              "      <td>0</td>\n",
              "      <td>0</td>\n",
              "      <td>0</td>\n",
              "      <td>1</td>\n",
              "      <td>0</td>\n",
              "      <td>0</td>\n",
              "      <td>0</td>\n",
              "      <td>0</td>\n",
              "      <td>0</td>\n",
              "      <td>0</td>\n",
              "      <td>0</td>\n",
              "      <td>0</td>\n",
              "      <td>0</td>\n",
              "      <td>0</td>\n",
              "      <td>0</td>\n",
              "      <td>0</td>\n",
              "      <td>0</td>\n",
              "      <td>1</td>\n",
              "      <td>0</td>\n",
              "      <td>0</td>\n",
              "      <td>0</td>\n",
              "      <td>0</td>\n",
              "      <td>0</td>\n",
              "      <td>0</td>\n",
              "      <td>0</td>\n",
              "      <td>0</td>\n",
              "      <td>0</td>\n",
              "      <td>0</td>\n",
              "      <td>0</td>\n",
              "      <td>0</td>\n",
              "      <td>0</td>\n",
              "      <td>0</td>\n",
              "    </tr>\n",
              "    <tr>\n",
              "      <th>1</th>\n",
              "      <td>67</td>\n",
              "      <td>3</td>\n",
              "      <td>289.36</td>\n",
              "      <td>0.0</td>\n",
              "      <td>75</td>\n",
              "      <td>4516</td>\n",
              "      <td>0</td>\n",
              "      <td>1</td>\n",
              "      <td>0</td>\n",
              "      <td>0</td>\n",
              "      <td>0</td>\n",
              "      <td>0</td>\n",
              "      <td>0</td>\n",
              "      <td>0</td>\n",
              "      <td>0</td>\n",
              "      <td>0</td>\n",
              "      <td>0</td>\n",
              "      <td>0</td>\n",
              "      <td>0</td>\n",
              "      <td>0</td>\n",
              "      <td>0</td>\n",
              "      <td>0</td>\n",
              "      <td>0</td>\n",
              "      <td>0</td>\n",
              "      <td>1</td>\n",
              "      <td>0</td>\n",
              "      <td>0</td>\n",
              "      <td>0</td>\n",
              "      <td>0</td>\n",
              "      <td>0</td>\n",
              "      <td>0</td>\n",
              "      <td>0</td>\n",
              "      <td>0</td>\n",
              "      <td>0</td>\n",
              "      <td>0</td>\n",
              "      <td>0</td>\n",
              "      <td>0</td>\n",
              "      <td>0</td>\n",
              "      <td>0</td>\n",
              "      <td>1</td>\n",
              "      <td>0</td>\n",
              "      <td>0</td>\n",
              "      <td>0</td>\n",
              "      <td>0</td>\n",
              "      <td>0</td>\n",
              "      <td>0</td>\n",
              "      <td>0</td>\n",
              "      <td>0</td>\n",
              "      <td>0</td>\n",
              "      <td>0</td>\n",
              "      <td>0</td>\n",
              "      <td>0</td>\n",
              "      <td>0</td>\n",
              "    </tr>\n",
              "    <tr>\n",
              "      <th>2</th>\n",
              "      <td>66</td>\n",
              "      <td>3</td>\n",
              "      <td>289.58</td>\n",
              "      <td>0.0</td>\n",
              "      <td>90</td>\n",
              "      <td>4767</td>\n",
              "      <td>0</td>\n",
              "      <td>1</td>\n",
              "      <td>0</td>\n",
              "      <td>0</td>\n",
              "      <td>0</td>\n",
              "      <td>0</td>\n",
              "      <td>0</td>\n",
              "      <td>0</td>\n",
              "      <td>0</td>\n",
              "      <td>0</td>\n",
              "      <td>0</td>\n",
              "      <td>0</td>\n",
              "      <td>0</td>\n",
              "      <td>0</td>\n",
              "      <td>0</td>\n",
              "      <td>0</td>\n",
              "      <td>0</td>\n",
              "      <td>0</td>\n",
              "      <td>1</td>\n",
              "      <td>0</td>\n",
              "      <td>0</td>\n",
              "      <td>0</td>\n",
              "      <td>0</td>\n",
              "      <td>0</td>\n",
              "      <td>0</td>\n",
              "      <td>0</td>\n",
              "      <td>0</td>\n",
              "      <td>0</td>\n",
              "      <td>0</td>\n",
              "      <td>0</td>\n",
              "      <td>0</td>\n",
              "      <td>0</td>\n",
              "      <td>0</td>\n",
              "      <td>0</td>\n",
              "      <td>1</td>\n",
              "      <td>0</td>\n",
              "      <td>0</td>\n",
              "      <td>0</td>\n",
              "      <td>0</td>\n",
              "      <td>0</td>\n",
              "      <td>0</td>\n",
              "      <td>0</td>\n",
              "      <td>0</td>\n",
              "      <td>0</td>\n",
              "      <td>0</td>\n",
              "      <td>0</td>\n",
              "      <td>0</td>\n",
              "    </tr>\n",
              "    <tr>\n",
              "      <th>3</th>\n",
              "      <td>66</td>\n",
              "      <td>3</td>\n",
              "      <td>290.13</td>\n",
              "      <td>0.0</td>\n",
              "      <td>90</td>\n",
              "      <td>5026</td>\n",
              "      <td>0</td>\n",
              "      <td>1</td>\n",
              "      <td>0</td>\n",
              "      <td>0</td>\n",
              "      <td>0</td>\n",
              "      <td>0</td>\n",
              "      <td>0</td>\n",
              "      <td>0</td>\n",
              "      <td>0</td>\n",
              "      <td>0</td>\n",
              "      <td>0</td>\n",
              "      <td>0</td>\n",
              "      <td>0</td>\n",
              "      <td>0</td>\n",
              "      <td>0</td>\n",
              "      <td>0</td>\n",
              "      <td>0</td>\n",
              "      <td>0</td>\n",
              "      <td>1</td>\n",
              "      <td>0</td>\n",
              "      <td>0</td>\n",
              "      <td>0</td>\n",
              "      <td>0</td>\n",
              "      <td>0</td>\n",
              "      <td>0</td>\n",
              "      <td>0</td>\n",
              "      <td>0</td>\n",
              "      <td>0</td>\n",
              "      <td>0</td>\n",
              "      <td>0</td>\n",
              "      <td>0</td>\n",
              "      <td>0</td>\n",
              "      <td>0</td>\n",
              "      <td>0</td>\n",
              "      <td>0</td>\n",
              "      <td>1</td>\n",
              "      <td>0</td>\n",
              "      <td>0</td>\n",
              "      <td>0</td>\n",
              "      <td>0</td>\n",
              "      <td>0</td>\n",
              "      <td>0</td>\n",
              "      <td>0</td>\n",
              "      <td>0</td>\n",
              "      <td>0</td>\n",
              "      <td>0</td>\n",
              "      <td>0</td>\n",
              "    </tr>\n",
              "    <tr>\n",
              "      <th>4</th>\n",
              "      <td>65</td>\n",
              "      <td>3</td>\n",
              "      <td>291.14</td>\n",
              "      <td>0.0</td>\n",
              "      <td>75</td>\n",
              "      <td>4918</td>\n",
              "      <td>0</td>\n",
              "      <td>1</td>\n",
              "      <td>0</td>\n",
              "      <td>0</td>\n",
              "      <td>0</td>\n",
              "      <td>0</td>\n",
              "      <td>0</td>\n",
              "      <td>0</td>\n",
              "      <td>0</td>\n",
              "      <td>0</td>\n",
              "      <td>0</td>\n",
              "      <td>0</td>\n",
              "      <td>0</td>\n",
              "      <td>0</td>\n",
              "      <td>0</td>\n",
              "      <td>0</td>\n",
              "      <td>0</td>\n",
              "      <td>0</td>\n",
              "      <td>1</td>\n",
              "      <td>0</td>\n",
              "      <td>0</td>\n",
              "      <td>0</td>\n",
              "      <td>0</td>\n",
              "      <td>0</td>\n",
              "      <td>0</td>\n",
              "      <td>0</td>\n",
              "      <td>0</td>\n",
              "      <td>0</td>\n",
              "      <td>0</td>\n",
              "      <td>0</td>\n",
              "      <td>0</td>\n",
              "      <td>0</td>\n",
              "      <td>0</td>\n",
              "      <td>0</td>\n",
              "      <td>0</td>\n",
              "      <td>0</td>\n",
              "      <td>1</td>\n",
              "      <td>0</td>\n",
              "      <td>0</td>\n",
              "      <td>0</td>\n",
              "      <td>0</td>\n",
              "      <td>0</td>\n",
              "      <td>0</td>\n",
              "      <td>0</td>\n",
              "      <td>0</td>\n",
              "      <td>0</td>\n",
              "      <td>0</td>\n",
              "    </tr>\n",
              "  </tbody>\n",
              "</table>\n",
              "</div>"
            ],
            "text/plain": [
              "   humidity  wind_speed  ...  time_22:00:00  time_23:00:00\n",
              "0        89           2  ...              0              0\n",
              "1        67           3  ...              0              0\n",
              "2        66           3  ...              0              0\n",
              "3        66           3  ...              0              0\n",
              "4        65           3  ...              0              0\n",
              "\n",
              "[5 rows x 53 columns]"
            ]
          },
          "metadata": {
            "tags": []
          },
          "execution_count": 1431
        }
      ]
    },
    {
      "cell_type": "code",
      "metadata": {
        "id": "71XY2wzZRdFG",
        "colab_type": "code",
        "colab": {
          "base_uri": "https://localhost:8080/",
          "height": 323
        },
        "outputId": "d2ddcbeb-e86b-485f-e532-621a7aa3ddaf"
      },
      "source": [
        "print(df.columns)"
      ],
      "execution_count": null,
      "outputs": [
        {
          "output_type": "stream",
          "text": [
            "Index(['humidity', 'wind_speed', 'temperature', 'rain_p_h', 'clouds_all',\n",
            "       'traffic_volume', 'weather_type_Clear', 'weather_type_Clouds',\n",
            "       'weather_type_Drizzle', 'weather_type_Fog', 'weather_type_Haze',\n",
            "       'weather_type_Mist', 'weather_type_Rain', 'weather_type_Smoke',\n",
            "       'weather_type_Snow', 'weather_type_Squall', 'weather_type_Thunderstorm',\n",
            "       'is_holiday_Christmas Day', 'is_holiday_Columbus Day',\n",
            "       'is_holiday_Independence Day', 'is_holiday_Labor Day',\n",
            "       'is_holiday_Martin Luther King Jr Day', 'is_holiday_Memorial Day',\n",
            "       'is_holiday_New Years Day', 'is_holiday_None', 'is_holiday_State Fair',\n",
            "       'is_holiday_Thanksgiving Day', 'is_holiday_Veterans Day',\n",
            "       'is_holiday_Washingtons Birthday', 'time_00:00:00', 'time_01:00:00',\n",
            "       'time_02:00:00', 'time_03:00:00', 'time_04:00:00', 'time_05:00:00',\n",
            "       'time_06:00:00', 'time_07:00:00', 'time_08:00:00', 'time_09:00:00',\n",
            "       'time_10:00:00', 'time_11:00:00', 'time_12:00:00', 'time_13:00:00',\n",
            "       'time_14:00:00', 'time_15:00:00', 'time_16:00:00', 'time_17:00:00',\n",
            "       'time_18:00:00', 'time_19:00:00', 'time_20:00:00', 'time_21:00:00',\n",
            "       'time_22:00:00', 'time_23:00:00'],\n",
            "      dtype='object')\n"
          ],
          "name": "stdout"
        }
      ]
    },
    {
      "cell_type": "code",
      "metadata": {
        "id": "IpFAnO5Lmdee",
        "colab_type": "code",
        "colab": {}
      },
      "source": [
        "# df['date'] = df['date'].strftime(\"%m-%d-%Y\")"
      ],
      "execution_count": null,
      "outputs": []
    },
    {
      "cell_type": "markdown",
      "metadata": {
        "id": "Hqgw65m2i8_T",
        "colab_type": "text"
      },
      "source": [
        "### training and testing for performance measurement\n"
      ]
    },
    {
      "cell_type": "code",
      "metadata": {
        "id": "Yil4V9uYiR0l",
        "colab_type": "code",
        "colab": {}
      },
      "source": [
        "traffic_volume = df['traffic_volume']\n",
        "train_performance = df.drop('traffic_volume',axis = 1)\n",
        "train_performance.insert(0,'X0',1)"
      ],
      "execution_count": null,
      "outputs": []
    },
    {
      "cell_type": "code",
      "metadata": {
        "id": "Oby6FB01jg1E",
        "colab_type": "code",
        "colab": {}
      },
      "source": [
        "from sklearn.model_selection import train_test_split\n",
        "x_train, x_test, y_train, y_test = train_test_split(train_performance, traffic_volume, test_size=0.25, random_state=0)"
      ],
      "execution_count": null,
      "outputs": []
    },
    {
      "cell_type": "code",
      "metadata": {
        "id": "1a3Epe0wHa4w",
        "colab_type": "code",
        "colab": {
          "base_uri": "https://localhost:8080/",
          "height": 935
        },
        "outputId": "88c9e96d-ed74-4fe1-c01f-87216b1eaff3"
      },
      "source": [
        "df.dtypes"
      ],
      "execution_count": null,
      "outputs": [
        {
          "output_type": "execute_result",
          "data": {
            "text/plain": [
              "humidity                                  int64\n",
              "wind_speed                                int64\n",
              "temperature                             float64\n",
              "rain_p_h                                float64\n",
              "clouds_all                                int64\n",
              "traffic_volume                            int64\n",
              "weather_type_Clear                        uint8\n",
              "weather_type_Clouds                       uint8\n",
              "weather_type_Drizzle                      uint8\n",
              "weather_type_Fog                          uint8\n",
              "weather_type_Haze                         uint8\n",
              "weather_type_Mist                         uint8\n",
              "weather_type_Rain                         uint8\n",
              "weather_type_Smoke                        uint8\n",
              "weather_type_Snow                         uint8\n",
              "weather_type_Squall                       uint8\n",
              "weather_type_Thunderstorm                 uint8\n",
              "is_holiday_Christmas Day                  uint8\n",
              "is_holiday_Columbus Day                   uint8\n",
              "is_holiday_Independence Day               uint8\n",
              "is_holiday_Labor Day                      uint8\n",
              "is_holiday_Martin Luther King Jr Day      uint8\n",
              "is_holiday_Memorial Day                   uint8\n",
              "is_holiday_New Years Day                  uint8\n",
              "is_holiday_None                           uint8\n",
              "is_holiday_State Fair                     uint8\n",
              "is_holiday_Thanksgiving Day               uint8\n",
              "is_holiday_Veterans Day                   uint8\n",
              "is_holiday_Washingtons Birthday           uint8\n",
              "time_00:00:00                             uint8\n",
              "time_01:00:00                             uint8\n",
              "time_02:00:00                             uint8\n",
              "time_03:00:00                             uint8\n",
              "time_04:00:00                             uint8\n",
              "time_05:00:00                             uint8\n",
              "time_06:00:00                             uint8\n",
              "time_07:00:00                             uint8\n",
              "time_08:00:00                             uint8\n",
              "time_09:00:00                             uint8\n",
              "time_10:00:00                             uint8\n",
              "time_11:00:00                             uint8\n",
              "time_12:00:00                             uint8\n",
              "time_13:00:00                             uint8\n",
              "time_14:00:00                             uint8\n",
              "time_15:00:00                             uint8\n",
              "time_16:00:00                             uint8\n",
              "time_17:00:00                             uint8\n",
              "time_18:00:00                             uint8\n",
              "time_19:00:00                             uint8\n",
              "time_20:00:00                             uint8\n",
              "time_21:00:00                             uint8\n",
              "time_22:00:00                             uint8\n",
              "time_23:00:00                             uint8\n",
              "dtype: object"
            ]
          },
          "metadata": {
            "tags": []
          },
          "execution_count": 1436
        }
      ]
    },
    {
      "cell_type": "code",
      "metadata": {
        "id": "yrFXhujPjpCg",
        "colab_type": "code",
        "colab": {}
      },
      "source": [
        "from sklearn.linear_model import LinearRegression\n",
        "# instantiate the model (using the default parameters)\n",
        "linearreg = LinearRegression()\n",
        "\n",
        "# fit the model with data\n",
        "linearreg.fit(x_train,y_train)\n",
        "\n",
        "#\n",
        "y_pred=linearreg.predict(x_test)"
      ],
      "execution_count": null,
      "outputs": []
    },
    {
      "cell_type": "code",
      "metadata": {
        "id": "HCp0iYC4Avj7",
        "colab_type": "code",
        "colab": {
          "base_uri": "https://localhost:8080/",
          "height": 272
        },
        "outputId": "595dfa34-6fe7-41b6-ceca-3f95ef96e914"
      },
      "source": [
        "#To retrieve the intercept:\n",
        "print(linearreg.intercept_)\n",
        "#For retrieving the slope:\n",
        "print(linearreg.coef_)"
      ],
      "execution_count": null,
      "outputs": [
        {
          "output_type": "stream",
          "text": [
            "2535650441198.4966\n",
            "[-4.55893234e+06 -1.98871299e+00  1.46693566e+01  5.78505483e+00\n",
            " -5.18231894e-03 -7.57258954e-01 -2.63720804e+12 -2.63720804e+12\n",
            " -2.63720804e+12 -2.63720804e+12 -2.63720804e+12 -2.63720804e+12\n",
            " -2.63720804e+12 -2.63720804e+12 -2.63720804e+12 -2.63720804e+12\n",
            " -2.63720804e+12 -6.15766938e+10 -6.15766940e+10 -6.15766937e+10\n",
            " -6.15766937e+10 -6.15766940e+10 -6.15766938e+10 -6.15766935e+10\n",
            " -6.15766939e+10 -6.15766942e+10 -6.15766938e+10 -6.15766941e+10\n",
            " -6.15766941e+10  1.63138854e+11  1.63138854e+11  1.63138854e+11\n",
            "  1.63138854e+11  1.63138854e+11  1.63138856e+11  1.63138858e+11\n",
            "  1.63138858e+11  1.63138858e+11  1.63138858e+11  1.63138858e+11\n",
            "  1.63138858e+11  1.63138858e+11  1.63138858e+11  1.63138858e+11\n",
            "  1.63138859e+11  1.63138859e+11  1.63138859e+11  1.63138858e+11\n",
            "  1.63138857e+11  1.63138856e+11  1.63138856e+11  1.63138856e+11\n",
            "  1.63138855e+11]\n"
          ],
          "name": "stdout"
        }
      ]
    },
    {
      "cell_type": "code",
      "metadata": {
        "id": "CKh0udeOB2hp",
        "colab_type": "code",
        "colab": {
          "base_uri": "https://localhost:8080/",
          "height": 1000
        },
        "outputId": "f45ecf58-feda-44e7-cd5f-25039f4e98a0"
      },
      "source": [
        "coeff_df = pd.DataFrame(linearreg.coef_, df.columns, columns=['Coefficient'])  \n",
        "coeff_df"
      ],
      "execution_count": null,
      "outputs": [
        {
          "output_type": "execute_result",
          "data": {
            "text/html": [
              "<div>\n",
              "<style scoped>\n",
              "    .dataframe tbody tr th:only-of-type {\n",
              "        vertical-align: middle;\n",
              "    }\n",
              "\n",
              "    .dataframe tbody tr th {\n",
              "        vertical-align: top;\n",
              "    }\n",
              "\n",
              "    .dataframe thead th {\n",
              "        text-align: right;\n",
              "    }\n",
              "</style>\n",
              "<table border=\"1\" class=\"dataframe\">\n",
              "  <thead>\n",
              "    <tr style=\"text-align: right;\">\n",
              "      <th></th>\n",
              "      <th>Coefficient</th>\n",
              "    </tr>\n",
              "  </thead>\n",
              "  <tbody>\n",
              "    <tr>\n",
              "      <th>humidity</th>\n",
              "      <td>-4.558932e+06</td>\n",
              "    </tr>\n",
              "    <tr>\n",
              "      <th>wind_speed</th>\n",
              "      <td>-1.988713e+00</td>\n",
              "    </tr>\n",
              "    <tr>\n",
              "      <th>temperature</th>\n",
              "      <td>1.466936e+01</td>\n",
              "    </tr>\n",
              "    <tr>\n",
              "      <th>rain_p_h</th>\n",
              "      <td>5.785055e+00</td>\n",
              "    </tr>\n",
              "    <tr>\n",
              "      <th>clouds_all</th>\n",
              "      <td>-5.182319e-03</td>\n",
              "    </tr>\n",
              "    <tr>\n",
              "      <th>traffic_volume</th>\n",
              "      <td>-7.572590e-01</td>\n",
              "    </tr>\n",
              "    <tr>\n",
              "      <th>weather_type_Clear</th>\n",
              "      <td>-2.637208e+12</td>\n",
              "    </tr>\n",
              "    <tr>\n",
              "      <th>weather_type_Clouds</th>\n",
              "      <td>-2.637208e+12</td>\n",
              "    </tr>\n",
              "    <tr>\n",
              "      <th>weather_type_Drizzle</th>\n",
              "      <td>-2.637208e+12</td>\n",
              "    </tr>\n",
              "    <tr>\n",
              "      <th>weather_type_Fog</th>\n",
              "      <td>-2.637208e+12</td>\n",
              "    </tr>\n",
              "    <tr>\n",
              "      <th>weather_type_Haze</th>\n",
              "      <td>-2.637208e+12</td>\n",
              "    </tr>\n",
              "    <tr>\n",
              "      <th>weather_type_Mist</th>\n",
              "      <td>-2.637208e+12</td>\n",
              "    </tr>\n",
              "    <tr>\n",
              "      <th>weather_type_Rain</th>\n",
              "      <td>-2.637208e+12</td>\n",
              "    </tr>\n",
              "    <tr>\n",
              "      <th>weather_type_Smoke</th>\n",
              "      <td>-2.637208e+12</td>\n",
              "    </tr>\n",
              "    <tr>\n",
              "      <th>weather_type_Snow</th>\n",
              "      <td>-2.637208e+12</td>\n",
              "    </tr>\n",
              "    <tr>\n",
              "      <th>weather_type_Squall</th>\n",
              "      <td>-2.637208e+12</td>\n",
              "    </tr>\n",
              "    <tr>\n",
              "      <th>weather_type_Thunderstorm</th>\n",
              "      <td>-2.637208e+12</td>\n",
              "    </tr>\n",
              "    <tr>\n",
              "      <th>is_holiday_Christmas Day</th>\n",
              "      <td>-6.157669e+10</td>\n",
              "    </tr>\n",
              "    <tr>\n",
              "      <th>is_holiday_Columbus Day</th>\n",
              "      <td>-6.157669e+10</td>\n",
              "    </tr>\n",
              "    <tr>\n",
              "      <th>is_holiday_Independence Day</th>\n",
              "      <td>-6.157669e+10</td>\n",
              "    </tr>\n",
              "    <tr>\n",
              "      <th>is_holiday_Labor Day</th>\n",
              "      <td>-6.157669e+10</td>\n",
              "    </tr>\n",
              "    <tr>\n",
              "      <th>is_holiday_Martin Luther King Jr Day</th>\n",
              "      <td>-6.157669e+10</td>\n",
              "    </tr>\n",
              "    <tr>\n",
              "      <th>is_holiday_Memorial Day</th>\n",
              "      <td>-6.157669e+10</td>\n",
              "    </tr>\n",
              "    <tr>\n",
              "      <th>is_holiday_New Years Day</th>\n",
              "      <td>-6.157669e+10</td>\n",
              "    </tr>\n",
              "    <tr>\n",
              "      <th>is_holiday_None</th>\n",
              "      <td>-6.157669e+10</td>\n",
              "    </tr>\n",
              "    <tr>\n",
              "      <th>is_holiday_State Fair</th>\n",
              "      <td>-6.157669e+10</td>\n",
              "    </tr>\n",
              "    <tr>\n",
              "      <th>is_holiday_Thanksgiving Day</th>\n",
              "      <td>-6.157669e+10</td>\n",
              "    </tr>\n",
              "    <tr>\n",
              "      <th>is_holiday_Veterans Day</th>\n",
              "      <td>-6.157669e+10</td>\n",
              "    </tr>\n",
              "    <tr>\n",
              "      <th>is_holiday_Washingtons Birthday</th>\n",
              "      <td>-6.157669e+10</td>\n",
              "    </tr>\n",
              "    <tr>\n",
              "      <th>time_00:00:00</th>\n",
              "      <td>1.631389e+11</td>\n",
              "    </tr>\n",
              "    <tr>\n",
              "      <th>time_01:00:00</th>\n",
              "      <td>1.631389e+11</td>\n",
              "    </tr>\n",
              "    <tr>\n",
              "      <th>time_02:00:00</th>\n",
              "      <td>1.631389e+11</td>\n",
              "    </tr>\n",
              "    <tr>\n",
              "      <th>time_03:00:00</th>\n",
              "      <td>1.631389e+11</td>\n",
              "    </tr>\n",
              "    <tr>\n",
              "      <th>time_04:00:00</th>\n",
              "      <td>1.631389e+11</td>\n",
              "    </tr>\n",
              "    <tr>\n",
              "      <th>time_05:00:00</th>\n",
              "      <td>1.631389e+11</td>\n",
              "    </tr>\n",
              "    <tr>\n",
              "      <th>time_06:00:00</th>\n",
              "      <td>1.631389e+11</td>\n",
              "    </tr>\n",
              "    <tr>\n",
              "      <th>time_07:00:00</th>\n",
              "      <td>1.631389e+11</td>\n",
              "    </tr>\n",
              "    <tr>\n",
              "      <th>time_08:00:00</th>\n",
              "      <td>1.631389e+11</td>\n",
              "    </tr>\n",
              "    <tr>\n",
              "      <th>time_09:00:00</th>\n",
              "      <td>1.631389e+11</td>\n",
              "    </tr>\n",
              "    <tr>\n",
              "      <th>time_10:00:00</th>\n",
              "      <td>1.631389e+11</td>\n",
              "    </tr>\n",
              "    <tr>\n",
              "      <th>time_11:00:00</th>\n",
              "      <td>1.631389e+11</td>\n",
              "    </tr>\n",
              "    <tr>\n",
              "      <th>time_12:00:00</th>\n",
              "      <td>1.631389e+11</td>\n",
              "    </tr>\n",
              "    <tr>\n",
              "      <th>time_13:00:00</th>\n",
              "      <td>1.631389e+11</td>\n",
              "    </tr>\n",
              "    <tr>\n",
              "      <th>time_14:00:00</th>\n",
              "      <td>1.631389e+11</td>\n",
              "    </tr>\n",
              "    <tr>\n",
              "      <th>time_15:00:00</th>\n",
              "      <td>1.631389e+11</td>\n",
              "    </tr>\n",
              "    <tr>\n",
              "      <th>time_16:00:00</th>\n",
              "      <td>1.631389e+11</td>\n",
              "    </tr>\n",
              "    <tr>\n",
              "      <th>time_17:00:00</th>\n",
              "      <td>1.631389e+11</td>\n",
              "    </tr>\n",
              "    <tr>\n",
              "      <th>time_18:00:00</th>\n",
              "      <td>1.631389e+11</td>\n",
              "    </tr>\n",
              "    <tr>\n",
              "      <th>time_19:00:00</th>\n",
              "      <td>1.631389e+11</td>\n",
              "    </tr>\n",
              "    <tr>\n",
              "      <th>time_20:00:00</th>\n",
              "      <td>1.631389e+11</td>\n",
              "    </tr>\n",
              "    <tr>\n",
              "      <th>time_21:00:00</th>\n",
              "      <td>1.631389e+11</td>\n",
              "    </tr>\n",
              "    <tr>\n",
              "      <th>time_22:00:00</th>\n",
              "      <td>1.631389e+11</td>\n",
              "    </tr>\n",
              "    <tr>\n",
              "      <th>time_23:00:00</th>\n",
              "      <td>1.631389e+11</td>\n",
              "    </tr>\n",
              "  </tbody>\n",
              "</table>\n",
              "</div>"
            ],
            "text/plain": [
              "                                       Coefficient\n",
              "humidity                             -4.558932e+06\n",
              "wind_speed                           -1.988713e+00\n",
              "temperature                           1.466936e+01\n",
              "rain_p_h                              5.785055e+00\n",
              "clouds_all                           -5.182319e-03\n",
              "traffic_volume                       -7.572590e-01\n",
              "weather_type_Clear                   -2.637208e+12\n",
              "weather_type_Clouds                  -2.637208e+12\n",
              "weather_type_Drizzle                 -2.637208e+12\n",
              "weather_type_Fog                     -2.637208e+12\n",
              "weather_type_Haze                    -2.637208e+12\n",
              "weather_type_Mist                    -2.637208e+12\n",
              "weather_type_Rain                    -2.637208e+12\n",
              "weather_type_Smoke                   -2.637208e+12\n",
              "weather_type_Snow                    -2.637208e+12\n",
              "weather_type_Squall                  -2.637208e+12\n",
              "weather_type_Thunderstorm            -2.637208e+12\n",
              "is_holiday_Christmas Day             -6.157669e+10\n",
              "is_holiday_Columbus Day              -6.157669e+10\n",
              "is_holiday_Independence Day          -6.157669e+10\n",
              "is_holiday_Labor Day                 -6.157669e+10\n",
              "is_holiday_Martin Luther King Jr Day -6.157669e+10\n",
              "is_holiday_Memorial Day              -6.157669e+10\n",
              "is_holiday_New Years Day             -6.157669e+10\n",
              "is_holiday_None                      -6.157669e+10\n",
              "is_holiday_State Fair                -6.157669e+10\n",
              "is_holiday_Thanksgiving Day          -6.157669e+10\n",
              "is_holiday_Veterans Day              -6.157669e+10\n",
              "is_holiday_Washingtons Birthday      -6.157669e+10\n",
              "time_00:00:00                         1.631389e+11\n",
              "time_01:00:00                         1.631389e+11\n",
              "time_02:00:00                         1.631389e+11\n",
              "time_03:00:00                         1.631389e+11\n",
              "time_04:00:00                         1.631389e+11\n",
              "time_05:00:00                         1.631389e+11\n",
              "time_06:00:00                         1.631389e+11\n",
              "time_07:00:00                         1.631389e+11\n",
              "time_08:00:00                         1.631389e+11\n",
              "time_09:00:00                         1.631389e+11\n",
              "time_10:00:00                         1.631389e+11\n",
              "time_11:00:00                         1.631389e+11\n",
              "time_12:00:00                         1.631389e+11\n",
              "time_13:00:00                         1.631389e+11\n",
              "time_14:00:00                         1.631389e+11\n",
              "time_15:00:00                         1.631389e+11\n",
              "time_16:00:00                         1.631389e+11\n",
              "time_17:00:00                         1.631389e+11\n",
              "time_18:00:00                         1.631389e+11\n",
              "time_19:00:00                         1.631389e+11\n",
              "time_20:00:00                         1.631389e+11\n",
              "time_21:00:00                         1.631389e+11\n",
              "time_22:00:00                         1.631389e+11\n",
              "time_23:00:00                         1.631389e+11"
            ]
          },
          "metadata": {
            "tags": []
          },
          "execution_count": 1439
        }
      ]
    },
    {
      "cell_type": "code",
      "metadata": {
        "id": "py_Nx08kCKjt",
        "colab_type": "code",
        "colab": {
          "base_uri": "https://localhost:8080/",
          "height": 824
        },
        "outputId": "4343c4c4-b161-409f-dc48-57b8eb5c09fe"
      },
      "source": [
        "df_compare = pd.DataFrame({'Actual': y_test, 'Predicted': y_pred})\n",
        "df_compare.head(25)"
      ],
      "execution_count": null,
      "outputs": [
        {
          "output_type": "execute_result",
          "data": {
            "text/html": [
              "<div>\n",
              "<style scoped>\n",
              "    .dataframe tbody tr th:only-of-type {\n",
              "        vertical-align: middle;\n",
              "    }\n",
              "\n",
              "    .dataframe tbody tr th {\n",
              "        vertical-align: top;\n",
              "    }\n",
              "\n",
              "    .dataframe thead th {\n",
              "        text-align: right;\n",
              "    }\n",
              "</style>\n",
              "<table border=\"1\" class=\"dataframe\">\n",
              "  <thead>\n",
              "    <tr style=\"text-align: right;\">\n",
              "      <th></th>\n",
              "      <th>Actual</th>\n",
              "      <th>Predicted</th>\n",
              "    </tr>\n",
              "  </thead>\n",
              "  <tbody>\n",
              "    <tr>\n",
              "      <th>10802</th>\n",
              "      <td>2789</td>\n",
              "      <td>2564.941895</td>\n",
              "    </tr>\n",
              "    <tr>\n",
              "      <th>4407</th>\n",
              "      <td>4814</td>\n",
              "      <td>4666.814941</td>\n",
              "    </tr>\n",
              "    <tr>\n",
              "      <th>7745</th>\n",
              "      <td>3238</td>\n",
              "      <td>3029.300293</td>\n",
              "    </tr>\n",
              "    <tr>\n",
              "      <th>12064</th>\n",
              "      <td>375</td>\n",
              "      <td>410.216309</td>\n",
              "    </tr>\n",
              "    <tr>\n",
              "      <th>22623</th>\n",
              "      <td>1381</td>\n",
              "      <td>835.039551</td>\n",
              "    </tr>\n",
              "    <tr>\n",
              "      <th>29772</th>\n",
              "      <td>543</td>\n",
              "      <td>559.617676</td>\n",
              "    </tr>\n",
              "    <tr>\n",
              "      <th>9269</th>\n",
              "      <td>1845</td>\n",
              "      <td>1386.204102</td>\n",
              "    </tr>\n",
              "    <tr>\n",
              "      <th>19442</th>\n",
              "      <td>872</td>\n",
              "      <td>681.916504</td>\n",
              "    </tr>\n",
              "    <tr>\n",
              "      <th>4832</th>\n",
              "      <td>4377</td>\n",
              "      <td>5285.794922</td>\n",
              "    </tr>\n",
              "    <tr>\n",
              "      <th>14395</th>\n",
              "      <td>4854</td>\n",
              "      <td>4584.844238</td>\n",
              "    </tr>\n",
              "    <tr>\n",
              "      <th>19033</th>\n",
              "      <td>2815</td>\n",
              "      <td>2690.222168</td>\n",
              "    </tr>\n",
              "    <tr>\n",
              "      <th>28631</th>\n",
              "      <td>5552</td>\n",
              "      <td>4087.025879</td>\n",
              "    </tr>\n",
              "    <tr>\n",
              "      <th>4806</th>\n",
              "      <td>4995</td>\n",
              "      <td>4289.147461</td>\n",
              "    </tr>\n",
              "    <tr>\n",
              "      <th>28994</th>\n",
              "      <td>2883</td>\n",
              "      <td>1981.657715</td>\n",
              "    </tr>\n",
              "    <tr>\n",
              "      <th>3127</th>\n",
              "      <td>4779</td>\n",
              "      <td>4576.348145</td>\n",
              "    </tr>\n",
              "    <tr>\n",
              "      <th>20065</th>\n",
              "      <td>4875</td>\n",
              "      <td>3986.123047</td>\n",
              "    </tr>\n",
              "    <tr>\n",
              "      <th>31823</th>\n",
              "      <td>5965</td>\n",
              "      <td>4944.211914</td>\n",
              "    </tr>\n",
              "    <tr>\n",
              "      <th>3415</th>\n",
              "      <td>3019</td>\n",
              "      <td>2789.212891</td>\n",
              "    </tr>\n",
              "    <tr>\n",
              "      <th>19062</th>\n",
              "      <td>2131</td>\n",
              "      <td>4596.347168</td>\n",
              "    </tr>\n",
              "    <tr>\n",
              "      <th>26161</th>\n",
              "      <td>1690</td>\n",
              "      <td>2198.661133</td>\n",
              "    </tr>\n",
              "    <tr>\n",
              "      <th>24308</th>\n",
              "      <td>4477</td>\n",
              "      <td>4391.338379</td>\n",
              "    </tr>\n",
              "    <tr>\n",
              "      <th>14483</th>\n",
              "      <td>320</td>\n",
              "      <td>548.314941</td>\n",
              "    </tr>\n",
              "    <tr>\n",
              "      <th>28884</th>\n",
              "      <td>2196</td>\n",
              "      <td>1235.692383</td>\n",
              "    </tr>\n",
              "    <tr>\n",
              "      <th>19139</th>\n",
              "      <td>6432</td>\n",
              "      <td>5721.588379</td>\n",
              "    </tr>\n",
              "    <tr>\n",
              "      <th>3814</th>\n",
              "      <td>664</td>\n",
              "      <td>1894.416504</td>\n",
              "    </tr>\n",
              "  </tbody>\n",
              "</table>\n",
              "</div>"
            ],
            "text/plain": [
              "       Actual    Predicted\n",
              "10802    2789  2564.941895\n",
              "4407     4814  4666.814941\n",
              "7745     3238  3029.300293\n",
              "12064     375   410.216309\n",
              "22623    1381   835.039551\n",
              "29772     543   559.617676\n",
              "9269     1845  1386.204102\n",
              "19442     872   681.916504\n",
              "4832     4377  5285.794922\n",
              "14395    4854  4584.844238\n",
              "19033    2815  2690.222168\n",
              "28631    5552  4087.025879\n",
              "4806     4995  4289.147461\n",
              "28994    2883  1981.657715\n",
              "3127     4779  4576.348145\n",
              "20065    4875  3986.123047\n",
              "31823    5965  4944.211914\n",
              "3415     3019  2789.212891\n",
              "19062    2131  4596.347168\n",
              "26161    1690  2198.661133\n",
              "24308    4477  4391.338379\n",
              "14483     320   548.314941\n",
              "28884    2196  1235.692383\n",
              "19139    6432  5721.588379\n",
              "3814      664  1894.416504"
            ]
          },
          "metadata": {
            "tags": []
          },
          "execution_count": 1440
        }
      ]
    },
    {
      "cell_type": "code",
      "metadata": {
        "id": "RmlCQsrdjs1C",
        "colab_type": "code",
        "colab": {
          "base_uri": "https://localhost:8080/",
          "height": 68
        },
        "outputId": "0fea4c7f-734f-4e50-dacb-229b5520dada"
      },
      "source": [
        "from sklearn import metrics\n",
        "# cnf_matrix = metrics.confusion_matrix(y_test, y_pred)\n",
        "# cnf_matrix\n",
        "print('Mean Absolute Error:', metrics.mean_absolute_error(y_test, y_pred))  \n",
        "print('Mean Squared Error:', metrics.mean_squared_error(y_test, y_pred))  \n",
        "print('Root Mean Squared Error:', np.sqrt(metrics.mean_squared_error(y_test, y_pred)))"
      ],
      "execution_count": null,
      "outputs": [
        {
          "output_type": "stream",
          "text": [
            "Mean Absolute Error: 654.7352350184804\n",
            "Mean Squared Error: 922472.3497765956\n",
            "Root Mean Squared Error: 960.4542413757126\n"
          ],
          "name": "stdout"
        }
      ]
    },
    {
      "cell_type": "markdown",
      "metadata": {
        "id": "wWcde0DdDiwF",
        "colab_type": "text"
      },
      "source": [
        "### Final Training and testing"
      ]
    },
    {
      "cell_type": "code",
      "metadata": {
        "id": "W9pdWd2oqRIG",
        "colab_type": "code",
        "colab": {
          "base_uri": "https://localhost:8080/",
          "height": 309
        },
        "outputId": "87583c45-8c56-4c18-be87-94da50d71fca"
      },
      "source": [
        "df_test = pd.read_csv(\"Test.csv\")\n",
        "df_test.head()"
      ],
      "execution_count": null,
      "outputs": [
        {
          "output_type": "execute_result",
          "data": {
            "text/html": [
              "<div>\n",
              "<style scoped>\n",
              "    .dataframe tbody tr th:only-of-type {\n",
              "        vertical-align: middle;\n",
              "    }\n",
              "\n",
              "    .dataframe tbody tr th {\n",
              "        vertical-align: top;\n",
              "    }\n",
              "\n",
              "    .dataframe thead th {\n",
              "        text-align: right;\n",
              "    }\n",
              "</style>\n",
              "<table border=\"1\" class=\"dataframe\">\n",
              "  <thead>\n",
              "    <tr style=\"text-align: right;\">\n",
              "      <th></th>\n",
              "      <th>date_time</th>\n",
              "      <th>is_holiday</th>\n",
              "      <th>air_pollution_index</th>\n",
              "      <th>humidity</th>\n",
              "      <th>wind_speed</th>\n",
              "      <th>wind_direction</th>\n",
              "      <th>visibility_in_miles</th>\n",
              "      <th>dew_point</th>\n",
              "      <th>temperature</th>\n",
              "      <th>rain_p_h</th>\n",
              "      <th>snow_p_h</th>\n",
              "      <th>clouds_all</th>\n",
              "      <th>weather_type</th>\n",
              "      <th>weather_description</th>\n",
              "    </tr>\n",
              "  </thead>\n",
              "  <tbody>\n",
              "    <tr>\n",
              "      <th>0</th>\n",
              "      <td>2017-05-18 00:00:00</td>\n",
              "      <td>None</td>\n",
              "      <td>73</td>\n",
              "      <td>63</td>\n",
              "      <td>1</td>\n",
              "      <td>27</td>\n",
              "      <td>4</td>\n",
              "      <td>4</td>\n",
              "      <td>285.15</td>\n",
              "      <td>0.0</td>\n",
              "      <td>0</td>\n",
              "      <td>90</td>\n",
              "      <td>Rain</td>\n",
              "      <td>moderate rain</td>\n",
              "    </tr>\n",
              "    <tr>\n",
              "      <th>1</th>\n",
              "      <td>2017-05-18 00:00:00</td>\n",
              "      <td>None</td>\n",
              "      <td>251</td>\n",
              "      <td>63</td>\n",
              "      <td>1</td>\n",
              "      <td>27</td>\n",
              "      <td>4</td>\n",
              "      <td>4</td>\n",
              "      <td>285.15</td>\n",
              "      <td>0.0</td>\n",
              "      <td>0</td>\n",
              "      <td>90</td>\n",
              "      <td>Mist</td>\n",
              "      <td>mist</td>\n",
              "    </tr>\n",
              "    <tr>\n",
              "      <th>2</th>\n",
              "      <td>2017-05-18 00:00:00</td>\n",
              "      <td>None</td>\n",
              "      <td>75</td>\n",
              "      <td>56</td>\n",
              "      <td>1</td>\n",
              "      <td>0</td>\n",
              "      <td>1</td>\n",
              "      <td>1</td>\n",
              "      <td>285.15</td>\n",
              "      <td>0.0</td>\n",
              "      <td>0</td>\n",
              "      <td>90</td>\n",
              "      <td>Drizzle</td>\n",
              "      <td>light intensity drizzle</td>\n",
              "    </tr>\n",
              "    <tr>\n",
              "      <th>3</th>\n",
              "      <td>2017-05-18 01:00:00</td>\n",
              "      <td>None</td>\n",
              "      <td>98</td>\n",
              "      <td>56</td>\n",
              "      <td>1</td>\n",
              "      <td>351</td>\n",
              "      <td>2</td>\n",
              "      <td>2</td>\n",
              "      <td>284.79</td>\n",
              "      <td>0.0</td>\n",
              "      <td>0</td>\n",
              "      <td>90</td>\n",
              "      <td>Rain</td>\n",
              "      <td>heavy intensity rain</td>\n",
              "    </tr>\n",
              "    <tr>\n",
              "      <th>4</th>\n",
              "      <td>2017-05-18 01:00:00</td>\n",
              "      <td>None</td>\n",
              "      <td>283</td>\n",
              "      <td>56</td>\n",
              "      <td>1</td>\n",
              "      <td>351</td>\n",
              "      <td>1</td>\n",
              "      <td>1</td>\n",
              "      <td>284.79</td>\n",
              "      <td>0.0</td>\n",
              "      <td>0</td>\n",
              "      <td>90</td>\n",
              "      <td>Mist</td>\n",
              "      <td>mist</td>\n",
              "    </tr>\n",
              "  </tbody>\n",
              "</table>\n",
              "</div>"
            ],
            "text/plain": [
              "             date_time is_holiday  ...  weather_type      weather_description\n",
              "0  2017-05-18 00:00:00       None  ...          Rain            moderate rain\n",
              "1  2017-05-18 00:00:00       None  ...          Mist                     mist\n",
              "2  2017-05-18 00:00:00       None  ...       Drizzle  light intensity drizzle\n",
              "3  2017-05-18 01:00:00       None  ...          Rain     heavy intensity rain\n",
              "4  2017-05-18 01:00:00       None  ...          Mist                     mist\n",
              "\n",
              "[5 rows x 14 columns]"
            ]
          },
          "metadata": {
            "tags": []
          },
          "execution_count": 1442
        }
      ]
    },
    {
      "cell_type": "code",
      "metadata": {
        "id": "RgtlS2UVE2zH",
        "colab_type": "code",
        "colab": {
          "base_uri": "https://localhost:8080/",
          "height": 272
        },
        "outputId": "9a8a2759-78e3-4309-df35-ad0b1507681f"
      },
      "source": [
        "df_test.isnull().sum()"
      ],
      "execution_count": null,
      "outputs": [
        {
          "output_type": "execute_result",
          "data": {
            "text/plain": [
              "date_time              0\n",
              "is_holiday             0\n",
              "air_pollution_index    0\n",
              "humidity               0\n",
              "wind_speed             0\n",
              "wind_direction         0\n",
              "visibility_in_miles    0\n",
              "dew_point              0\n",
              "temperature            0\n",
              "rain_p_h               0\n",
              "snow_p_h               0\n",
              "clouds_all             0\n",
              "weather_type           0\n",
              "weather_description    0\n",
              "dtype: int64"
            ]
          },
          "metadata": {
            "tags": []
          },
          "execution_count": 1443
        }
      ]
    },
    {
      "cell_type": "code",
      "metadata": {
        "id": "LFncOU9ME6w0",
        "colab_type": "code",
        "colab": {
          "base_uri": "https://localhost:8080/",
          "height": 272
        },
        "outputId": "5b4e1f48-ea9b-4fb2-cd3e-7441460f3eb4"
      },
      "source": [
        "df_test.dtypes"
      ],
      "execution_count": null,
      "outputs": [
        {
          "output_type": "execute_result",
          "data": {
            "text/plain": [
              "date_time               object\n",
              "is_holiday              object\n",
              "air_pollution_index      int64\n",
              "humidity                 int64\n",
              "wind_speed               int64\n",
              "wind_direction           int64\n",
              "visibility_in_miles      int64\n",
              "dew_point                int64\n",
              "temperature            float64\n",
              "rain_p_h               float64\n",
              "snow_p_h                 int64\n",
              "clouds_all               int64\n",
              "weather_type            object\n",
              "weather_description     object\n",
              "dtype: object"
            ]
          },
          "metadata": {
            "tags": []
          },
          "execution_count": 1444
        }
      ]
    },
    {
      "cell_type": "code",
      "metadata": {
        "id": "0BhZpptOEn0T",
        "colab_type": "code",
        "colab": {}
      },
      "source": [
        "df_test['date_time'] = pd.to_datetime(df_test.date_time)"
      ],
      "execution_count": null,
      "outputs": []
    },
    {
      "cell_type": "code",
      "metadata": {
        "id": "WUw7jKcIFUE1",
        "colab_type": "code",
        "colab": {
          "base_uri": "https://localhost:8080/",
          "height": 272
        },
        "outputId": "17c84d8d-8c2c-45b5-832a-151672c6c602"
      },
      "source": [
        "df_test.dtypes"
      ],
      "execution_count": null,
      "outputs": [
        {
          "output_type": "execute_result",
          "data": {
            "text/plain": [
              "date_time              datetime64[ns]\n",
              "is_holiday                     object\n",
              "air_pollution_index             int64\n",
              "humidity                        int64\n",
              "wind_speed                      int64\n",
              "wind_direction                  int64\n",
              "visibility_in_miles             int64\n",
              "dew_point                       int64\n",
              "temperature                   float64\n",
              "rain_p_h                      float64\n",
              "snow_p_h                        int64\n",
              "clouds_all                      int64\n",
              "weather_type                   object\n",
              "weather_description            object\n",
              "dtype: object"
            ]
          },
          "metadata": {
            "tags": []
          },
          "execution_count": 1446
        }
      ]
    },
    {
      "cell_type": "code",
      "metadata": {
        "id": "lEdHY_LLFqOf",
        "colab_type": "code",
        "colab": {}
      },
      "source": [
        "# df_test['date'] = df_test['date_time'].dt.date"
      ],
      "execution_count": null,
      "outputs": []
    },
    {
      "cell_type": "code",
      "metadata": {
        "id": "ttEzUAkVFuJv",
        "colab_type": "code",
        "colab": {}
      },
      "source": [
        "df_test['time'] = df_test['date_time'].dt.time"
      ],
      "execution_count": null,
      "outputs": []
    },
    {
      "cell_type": "code",
      "metadata": {
        "id": "7r_81hk7F6F3",
        "colab_type": "code",
        "colab": {
          "base_uri": "https://localhost:8080/",
          "height": 34
        },
        "outputId": "0ccece65-3d4e-4392-c535-4d3e91cee70b"
      },
      "source": [
        "df_test.shape"
      ],
      "execution_count": null,
      "outputs": [
        {
          "output_type": "execute_result",
          "data": {
            "text/plain": [
              "(14454, 15)"
            ]
          },
          "metadata": {
            "tags": []
          },
          "execution_count": 1449
        }
      ]
    },
    {
      "cell_type": "code",
      "metadata": {
        "id": "Oh7Ibj-SINq7",
        "colab_type": "code",
        "colab": {}
      },
      "source": [
        "date_time = df_test['date_time']"
      ],
      "execution_count": null,
      "outputs": []
    },
    {
      "cell_type": "code",
      "metadata": {
        "id": "yA2JTaCtF6Cl",
        "colab_type": "code",
        "colab": {}
      },
      "source": [
        "df_test = df_test.drop('date_time',axis = 1)"
      ],
      "execution_count": null,
      "outputs": []
    },
    {
      "cell_type": "code",
      "metadata": {
        "id": "KH9NHiR8F70F",
        "colab_type": "code",
        "colab": {
          "base_uri": "https://localhost:8080/",
          "height": 34
        },
        "outputId": "a9b9be8b-b393-48fb-8790-f61ba0e355ce"
      },
      "source": [
        "df_test.shape"
      ],
      "execution_count": null,
      "outputs": [
        {
          "output_type": "execute_result",
          "data": {
            "text/plain": [
              "(14454, 14)"
            ]
          },
          "metadata": {
            "tags": []
          },
          "execution_count": 1452
        }
      ]
    },
    {
      "cell_type": "code",
      "metadata": {
        "id": "Yh0wWn3xGR5-",
        "colab_type": "code",
        "colab": {
          "base_uri": "https://localhost:8080/",
          "height": 272
        },
        "outputId": "e7763563-c0bb-421d-ce44-74a209e7f2c9"
      },
      "source": [
        "df_test.dtypes"
      ],
      "execution_count": null,
      "outputs": [
        {
          "output_type": "execute_result",
          "data": {
            "text/plain": [
              "is_holiday              object\n",
              "air_pollution_index      int64\n",
              "humidity                 int64\n",
              "wind_speed               int64\n",
              "wind_direction           int64\n",
              "visibility_in_miles      int64\n",
              "dew_point                int64\n",
              "temperature            float64\n",
              "rain_p_h               float64\n",
              "snow_p_h                 int64\n",
              "clouds_all               int64\n",
              "weather_type            object\n",
              "weather_description     object\n",
              "time                    object\n",
              "dtype: object"
            ]
          },
          "metadata": {
            "tags": []
          },
          "execution_count": 1453
        }
      ]
    },
    {
      "cell_type": "markdown",
      "metadata": {
        "id": "QUlfCh-C1cwN",
        "colab_type": "text"
      },
      "source": [
        "### Data Cleaning"
      ]
    },
    {
      "cell_type": "code",
      "metadata": {
        "id": "wEhMqZrJ1dsy",
        "colab_type": "code",
        "colab": {
          "base_uri": "https://localhost:8080/",
          "height": 34
        },
        "outputId": "f983f287-c4b5-4314-f035-be56f2eddf7a"
      },
      "source": [
        "df_test.shape"
      ],
      "execution_count": null,
      "outputs": [
        {
          "output_type": "execute_result",
          "data": {
            "text/plain": [
              "(14454, 14)"
            ]
          },
          "metadata": {
            "tags": []
          },
          "execution_count": 1454
        }
      ]
    },
    {
      "cell_type": "code",
      "metadata": {
        "id": "FnQFfki21dob",
        "colab_type": "code",
        "colab": {}
      },
      "source": [
        "# df_test = pd.get_dummies(df_test, columns=['weather_description'], prefix = ['weather_description'])"
      ],
      "execution_count": null,
      "outputs": []
    },
    {
      "cell_type": "code",
      "metadata": {
        "id": "qM2fZPpx1dlG",
        "colab_type": "code",
        "colab": {}
      },
      "source": [
        "df_test = pd.get_dummies(df_test, columns=['weather_type'], prefix = ['weather_type'])"
      ],
      "execution_count": null,
      "outputs": []
    },
    {
      "cell_type": "code",
      "metadata": {
        "id": "_JAeo9la1m3B",
        "colab_type": "code",
        "colab": {}
      },
      "source": [
        "df_test = pd.get_dummies(df_test, columns=['is_holiday'], prefix = ['is_holiday'])"
      ],
      "execution_count": null,
      "outputs": []
    },
    {
      "cell_type": "code",
      "metadata": {
        "id": "vdF8ODxW1mza",
        "colab_type": "code",
        "colab": {}
      },
      "source": [
        "# df_test = pd.get_dummies(df_test, columns=['date'], prefix = ['date'])"
      ],
      "execution_count": null,
      "outputs": []
    },
    {
      "cell_type": "code",
      "metadata": {
        "id": "ulSVxo6N1mwW",
        "colab_type": "code",
        "colab": {}
      },
      "source": [
        "df_test = pd.get_dummies(df_test, columns=['time'], prefix = ['time'])"
      ],
      "execution_count": null,
      "outputs": []
    },
    {
      "cell_type": "code",
      "metadata": {
        "id": "NDDAw337EXXW",
        "colab_type": "code",
        "colab": {}
      },
      "source": [
        "df_test = df_test.drop('weather_description',axis = 1)\n",
        "# df_test = df_test.drop('weather_type',axis=1)\n",
        "# df_test = df_test.drop('is_holiday',axis=1)"
      ],
      "execution_count": null,
      "outputs": []
    },
    {
      "cell_type": "code",
      "metadata": {
        "id": "YkLKMikV88cs",
        "colab_type": "code",
        "colab": {}
      },
      "source": [
        "# df_test = df_test.drop('rain_p_h',axis = 1)\n",
        "df_test = df_test.drop('snow_p_h',axis = 1)\n",
        "# df_test = df_test.drop('wind_speed',axis = 1)\n",
        "df_test = df_test.drop('wind_direction',axis = 1)\n",
        "# df_test = df_test.drop('humidity',axis = 1)\n",
        "df_test = df_test.drop('air_pollution_index',axis = 1)\n",
        "df_test = df_test.drop('visibility_in_miles',axis = 1)\n",
        "df_test = df_test.drop('dew_point',axis = 1)\n",
        "# df_test = df_test.drop('temperature',axis = 1)\n",
        "# df_test = df_test.drop('clouds_all',axis = 1)\n"
      ],
      "execution_count": null,
      "outputs": []
    },
    {
      "cell_type": "code",
      "metadata": {
        "id": "nhwjDi8V1yAA",
        "colab_type": "code",
        "colab": {
          "base_uri": "https://localhost:8080/",
          "height": 34
        },
        "outputId": "29a03326-a4e4-499a-8720-dffef5a62b82"
      },
      "source": [
        "df_test.shape"
      ],
      "execution_count": null,
      "outputs": [
        {
          "output_type": "execute_result",
          "data": {
            "text/plain": [
              "(14454, 51)"
            ]
          },
          "metadata": {
            "tags": []
          },
          "execution_count": 1462
        }
      ]
    },
    {
      "cell_type": "code",
      "metadata": {
        "id": "t9souVIBGoIa",
        "colab_type": "code",
        "colab": {
          "base_uri": "https://localhost:8080/",
          "height": 901
        },
        "outputId": "d8296370-26c2-4127-b030-677faaa60202"
      },
      "source": [
        "df_test.dtypes"
      ],
      "execution_count": null,
      "outputs": [
        {
          "output_type": "execute_result",
          "data": {
            "text/plain": [
              "humidity                                  int64\n",
              "wind_speed                                int64\n",
              "temperature                             float64\n",
              "rain_p_h                                float64\n",
              "clouds_all                                int64\n",
              "weather_type_Clear                        uint8\n",
              "weather_type_Clouds                       uint8\n",
              "weather_type_Drizzle                      uint8\n",
              "weather_type_Fog                          uint8\n",
              "weather_type_Haze                         uint8\n",
              "weather_type_Mist                         uint8\n",
              "weather_type_Rain                         uint8\n",
              "weather_type_Smoke                        uint8\n",
              "weather_type_Snow                         uint8\n",
              "weather_type_Thunderstorm                 uint8\n",
              "is_holiday_Christmas Day                  uint8\n",
              "is_holiday_Columbus Day                   uint8\n",
              "is_holiday_Independence Day               uint8\n",
              "is_holiday_Labor Day                      uint8\n",
              "is_holiday_Martin Luther King Jr Day      uint8\n",
              "is_holiday_Memorial Day                   uint8\n",
              "is_holiday_New Years Day                  uint8\n",
              "is_holiday_None                           uint8\n",
              "is_holiday_State Fair                     uint8\n",
              "is_holiday_Thanksgiving Day               uint8\n",
              "is_holiday_Veterans Day                   uint8\n",
              "is_holiday_Washingtons Birthday           uint8\n",
              "time_00:00:00                             uint8\n",
              "time_01:00:00                             uint8\n",
              "time_02:00:00                             uint8\n",
              "time_03:00:00                             uint8\n",
              "time_04:00:00                             uint8\n",
              "time_05:00:00                             uint8\n",
              "time_06:00:00                             uint8\n",
              "time_07:00:00                             uint8\n",
              "time_08:00:00                             uint8\n",
              "time_09:00:00                             uint8\n",
              "time_10:00:00                             uint8\n",
              "time_11:00:00                             uint8\n",
              "time_12:00:00                             uint8\n",
              "time_13:00:00                             uint8\n",
              "time_14:00:00                             uint8\n",
              "time_15:00:00                             uint8\n",
              "time_16:00:00                             uint8\n",
              "time_17:00:00                             uint8\n",
              "time_18:00:00                             uint8\n",
              "time_19:00:00                             uint8\n",
              "time_20:00:00                             uint8\n",
              "time_21:00:00                             uint8\n",
              "time_22:00:00                             uint8\n",
              "time_23:00:00                             uint8\n",
              "dtype: object"
            ]
          },
          "metadata": {
            "tags": []
          },
          "execution_count": 1463
        }
      ]
    },
    {
      "cell_type": "code",
      "metadata": {
        "id": "VAjdja9AD8hU",
        "colab_type": "code",
        "colab": {}
      },
      "source": [
        "traffic_volume = df['traffic_volume']\n",
        "train = df.drop('traffic_volume',axis = 1)\n",
        "train.insert(0,'X0',1)"
      ],
      "execution_count": null,
      "outputs": []
    },
    {
      "cell_type": "code",
      "metadata": {
        "id": "sDhCikeA19Mf",
        "colab_type": "code",
        "colab": {
          "base_uri": "https://localhost:8080/",
          "height": 34
        },
        "outputId": "cbe28562-655d-460a-ce74-83e8edcb2a22"
      },
      "source": [
        "difference = set(train).difference(df_test)\n",
        "difference"
      ],
      "execution_count": null,
      "outputs": [
        {
          "output_type": "execute_result",
          "data": {
            "text/plain": [
              "{'X0', 'weather_type_Squall'}"
            ]
          },
          "metadata": {
            "tags": []
          },
          "execution_count": 1465
        }
      ]
    },
    {
      "cell_type": "code",
      "metadata": {
        "id": "ES_eFMS52CmT",
        "colab_type": "code",
        "colab": {}
      },
      "source": [
        "# train = train.drop('weather_description_SQUALLS',axis = 1)\n",
        "# train = train.drop('weather_description_freezing rain',axis = 1)\n",
        "# train = train.drop('weather_description_light rain and snow',axis = 1)\n",
        "# train = train.drop('weather_description_shower snow',axis = 1)\n",
        "# train = train.drop('weather_description_thunderstorm with drizzle',axis = 1)\n",
        "# train = train.drop('weather_description_very heavy rain',axis = 1)\n",
        "train = train.drop('weather_type_Squall',axis = 1)\n"
      ],
      "execution_count": null,
      "outputs": []
    },
    {
      "cell_type": "code",
      "metadata": {
        "id": "ObIT-Iet2Fn3",
        "colab_type": "code",
        "colab": {
          "base_uri": "https://localhost:8080/",
          "height": 34
        },
        "outputId": "84ba9a53-e607-48de-a2b9-473437872055"
      },
      "source": [
        "train.shape"
      ],
      "execution_count": null,
      "outputs": [
        {
          "output_type": "execute_result",
          "data": {
            "text/plain": [
              "(33750, 52)"
            ]
          },
          "metadata": {
            "tags": []
          },
          "execution_count": 1467
        }
      ]
    },
    {
      "cell_type": "code",
      "metadata": {
        "id": "JlpAua8t2Fkd",
        "colab_type": "code",
        "colab": {
          "base_uri": "https://localhost:8080/",
          "height": 34
        },
        "outputId": "506b6c84-2ead-48b2-d673-2fd44a68176a"
      },
      "source": [
        "df_test.shape"
      ],
      "execution_count": null,
      "outputs": [
        {
          "output_type": "execute_result",
          "data": {
            "text/plain": [
              "(14454, 51)"
            ]
          },
          "metadata": {
            "tags": []
          },
          "execution_count": 1468
        }
      ]
    },
    {
      "cell_type": "code",
      "metadata": {
        "id": "YErognI5qTyY",
        "colab_type": "code",
        "colab": {
          "base_uri": "https://localhost:8080/",
          "height": 34
        },
        "outputId": "b4ae554a-8235-4f3e-d1be-21328d54f1cc"
      },
      "source": [
        "from sklearn.linear_model import LinearRegression\n",
        "# instantiate the model (using the default parameters)\n",
        "linearreg = LinearRegression()\n",
        "\n",
        "# fit the model with data\n",
        "linearreg.fit(train,traffic_volume)"
      ],
      "execution_count": null,
      "outputs": [
        {
          "output_type": "execute_result",
          "data": {
            "text/plain": [
              "LinearRegression(copy_X=True, fit_intercept=True, n_jobs=None, normalize=False)"
            ]
          },
          "metadata": {
            "tags": []
          },
          "execution_count": 1469
        }
      ]
    },
    {
      "cell_type": "code",
      "metadata": {
        "id": "yd1s5vNVG-Jq",
        "colab_type": "code",
        "colab": {}
      },
      "source": [
        "df_test.insert(0,'X0',1)"
      ],
      "execution_count": null,
      "outputs": []
    },
    {
      "cell_type": "code",
      "metadata": {
        "id": "Ge8N-3ryHA9o",
        "colab_type": "code",
        "colab": {
          "base_uri": "https://localhost:8080/",
          "height": 258
        },
        "outputId": "81b8d599-217e-4712-c30a-3f5ecff9051d"
      },
      "source": [
        "df_test.head()"
      ],
      "execution_count": null,
      "outputs": [
        {
          "output_type": "execute_result",
          "data": {
            "text/html": [
              "<div>\n",
              "<style scoped>\n",
              "    .dataframe tbody tr th:only-of-type {\n",
              "        vertical-align: middle;\n",
              "    }\n",
              "\n",
              "    .dataframe tbody tr th {\n",
              "        vertical-align: top;\n",
              "    }\n",
              "\n",
              "    .dataframe thead th {\n",
              "        text-align: right;\n",
              "    }\n",
              "</style>\n",
              "<table border=\"1\" class=\"dataframe\">\n",
              "  <thead>\n",
              "    <tr style=\"text-align: right;\">\n",
              "      <th></th>\n",
              "      <th>X0</th>\n",
              "      <th>humidity</th>\n",
              "      <th>wind_speed</th>\n",
              "      <th>temperature</th>\n",
              "      <th>rain_p_h</th>\n",
              "      <th>clouds_all</th>\n",
              "      <th>weather_type_Clear</th>\n",
              "      <th>weather_type_Clouds</th>\n",
              "      <th>weather_type_Drizzle</th>\n",
              "      <th>weather_type_Fog</th>\n",
              "      <th>weather_type_Haze</th>\n",
              "      <th>weather_type_Mist</th>\n",
              "      <th>weather_type_Rain</th>\n",
              "      <th>weather_type_Smoke</th>\n",
              "      <th>weather_type_Snow</th>\n",
              "      <th>weather_type_Thunderstorm</th>\n",
              "      <th>is_holiday_Christmas Day</th>\n",
              "      <th>is_holiday_Columbus Day</th>\n",
              "      <th>is_holiday_Independence Day</th>\n",
              "      <th>is_holiday_Labor Day</th>\n",
              "      <th>is_holiday_Martin Luther King Jr Day</th>\n",
              "      <th>is_holiday_Memorial Day</th>\n",
              "      <th>is_holiday_New Years Day</th>\n",
              "      <th>is_holiday_None</th>\n",
              "      <th>is_holiday_State Fair</th>\n",
              "      <th>is_holiday_Thanksgiving Day</th>\n",
              "      <th>is_holiday_Veterans Day</th>\n",
              "      <th>is_holiday_Washingtons Birthday</th>\n",
              "      <th>time_00:00:00</th>\n",
              "      <th>time_01:00:00</th>\n",
              "      <th>time_02:00:00</th>\n",
              "      <th>time_03:00:00</th>\n",
              "      <th>time_04:00:00</th>\n",
              "      <th>time_05:00:00</th>\n",
              "      <th>time_06:00:00</th>\n",
              "      <th>time_07:00:00</th>\n",
              "      <th>time_08:00:00</th>\n",
              "      <th>time_09:00:00</th>\n",
              "      <th>time_10:00:00</th>\n",
              "      <th>time_11:00:00</th>\n",
              "      <th>time_12:00:00</th>\n",
              "      <th>time_13:00:00</th>\n",
              "      <th>time_14:00:00</th>\n",
              "      <th>time_15:00:00</th>\n",
              "      <th>time_16:00:00</th>\n",
              "      <th>time_17:00:00</th>\n",
              "      <th>time_18:00:00</th>\n",
              "      <th>time_19:00:00</th>\n",
              "      <th>time_20:00:00</th>\n",
              "      <th>time_21:00:00</th>\n",
              "      <th>time_22:00:00</th>\n",
              "      <th>time_23:00:00</th>\n",
              "    </tr>\n",
              "  </thead>\n",
              "  <tbody>\n",
              "    <tr>\n",
              "      <th>0</th>\n",
              "      <td>1</td>\n",
              "      <td>63</td>\n",
              "      <td>1</td>\n",
              "      <td>285.15</td>\n",
              "      <td>0.0</td>\n",
              "      <td>90</td>\n",
              "      <td>0</td>\n",
              "      <td>0</td>\n",
              "      <td>0</td>\n",
              "      <td>0</td>\n",
              "      <td>0</td>\n",
              "      <td>0</td>\n",
              "      <td>1</td>\n",
              "      <td>0</td>\n",
              "      <td>0</td>\n",
              "      <td>0</td>\n",
              "      <td>0</td>\n",
              "      <td>0</td>\n",
              "      <td>0</td>\n",
              "      <td>0</td>\n",
              "      <td>0</td>\n",
              "      <td>0</td>\n",
              "      <td>0</td>\n",
              "      <td>1</td>\n",
              "      <td>0</td>\n",
              "      <td>0</td>\n",
              "      <td>0</td>\n",
              "      <td>0</td>\n",
              "      <td>1</td>\n",
              "      <td>0</td>\n",
              "      <td>0</td>\n",
              "      <td>0</td>\n",
              "      <td>0</td>\n",
              "      <td>0</td>\n",
              "      <td>0</td>\n",
              "      <td>0</td>\n",
              "      <td>0</td>\n",
              "      <td>0</td>\n",
              "      <td>0</td>\n",
              "      <td>0</td>\n",
              "      <td>0</td>\n",
              "      <td>0</td>\n",
              "      <td>0</td>\n",
              "      <td>0</td>\n",
              "      <td>0</td>\n",
              "      <td>0</td>\n",
              "      <td>0</td>\n",
              "      <td>0</td>\n",
              "      <td>0</td>\n",
              "      <td>0</td>\n",
              "      <td>0</td>\n",
              "      <td>0</td>\n",
              "    </tr>\n",
              "    <tr>\n",
              "      <th>1</th>\n",
              "      <td>1</td>\n",
              "      <td>63</td>\n",
              "      <td>1</td>\n",
              "      <td>285.15</td>\n",
              "      <td>0.0</td>\n",
              "      <td>90</td>\n",
              "      <td>0</td>\n",
              "      <td>0</td>\n",
              "      <td>0</td>\n",
              "      <td>0</td>\n",
              "      <td>0</td>\n",
              "      <td>1</td>\n",
              "      <td>0</td>\n",
              "      <td>0</td>\n",
              "      <td>0</td>\n",
              "      <td>0</td>\n",
              "      <td>0</td>\n",
              "      <td>0</td>\n",
              "      <td>0</td>\n",
              "      <td>0</td>\n",
              "      <td>0</td>\n",
              "      <td>0</td>\n",
              "      <td>0</td>\n",
              "      <td>1</td>\n",
              "      <td>0</td>\n",
              "      <td>0</td>\n",
              "      <td>0</td>\n",
              "      <td>0</td>\n",
              "      <td>1</td>\n",
              "      <td>0</td>\n",
              "      <td>0</td>\n",
              "      <td>0</td>\n",
              "      <td>0</td>\n",
              "      <td>0</td>\n",
              "      <td>0</td>\n",
              "      <td>0</td>\n",
              "      <td>0</td>\n",
              "      <td>0</td>\n",
              "      <td>0</td>\n",
              "      <td>0</td>\n",
              "      <td>0</td>\n",
              "      <td>0</td>\n",
              "      <td>0</td>\n",
              "      <td>0</td>\n",
              "      <td>0</td>\n",
              "      <td>0</td>\n",
              "      <td>0</td>\n",
              "      <td>0</td>\n",
              "      <td>0</td>\n",
              "      <td>0</td>\n",
              "      <td>0</td>\n",
              "      <td>0</td>\n",
              "    </tr>\n",
              "    <tr>\n",
              "      <th>2</th>\n",
              "      <td>1</td>\n",
              "      <td>56</td>\n",
              "      <td>1</td>\n",
              "      <td>285.15</td>\n",
              "      <td>0.0</td>\n",
              "      <td>90</td>\n",
              "      <td>0</td>\n",
              "      <td>0</td>\n",
              "      <td>1</td>\n",
              "      <td>0</td>\n",
              "      <td>0</td>\n",
              "      <td>0</td>\n",
              "      <td>0</td>\n",
              "      <td>0</td>\n",
              "      <td>0</td>\n",
              "      <td>0</td>\n",
              "      <td>0</td>\n",
              "      <td>0</td>\n",
              "      <td>0</td>\n",
              "      <td>0</td>\n",
              "      <td>0</td>\n",
              "      <td>0</td>\n",
              "      <td>0</td>\n",
              "      <td>1</td>\n",
              "      <td>0</td>\n",
              "      <td>0</td>\n",
              "      <td>0</td>\n",
              "      <td>0</td>\n",
              "      <td>1</td>\n",
              "      <td>0</td>\n",
              "      <td>0</td>\n",
              "      <td>0</td>\n",
              "      <td>0</td>\n",
              "      <td>0</td>\n",
              "      <td>0</td>\n",
              "      <td>0</td>\n",
              "      <td>0</td>\n",
              "      <td>0</td>\n",
              "      <td>0</td>\n",
              "      <td>0</td>\n",
              "      <td>0</td>\n",
              "      <td>0</td>\n",
              "      <td>0</td>\n",
              "      <td>0</td>\n",
              "      <td>0</td>\n",
              "      <td>0</td>\n",
              "      <td>0</td>\n",
              "      <td>0</td>\n",
              "      <td>0</td>\n",
              "      <td>0</td>\n",
              "      <td>0</td>\n",
              "      <td>0</td>\n",
              "    </tr>\n",
              "    <tr>\n",
              "      <th>3</th>\n",
              "      <td>1</td>\n",
              "      <td>56</td>\n",
              "      <td>1</td>\n",
              "      <td>284.79</td>\n",
              "      <td>0.0</td>\n",
              "      <td>90</td>\n",
              "      <td>0</td>\n",
              "      <td>0</td>\n",
              "      <td>0</td>\n",
              "      <td>0</td>\n",
              "      <td>0</td>\n",
              "      <td>0</td>\n",
              "      <td>1</td>\n",
              "      <td>0</td>\n",
              "      <td>0</td>\n",
              "      <td>0</td>\n",
              "      <td>0</td>\n",
              "      <td>0</td>\n",
              "      <td>0</td>\n",
              "      <td>0</td>\n",
              "      <td>0</td>\n",
              "      <td>0</td>\n",
              "      <td>0</td>\n",
              "      <td>1</td>\n",
              "      <td>0</td>\n",
              "      <td>0</td>\n",
              "      <td>0</td>\n",
              "      <td>0</td>\n",
              "      <td>0</td>\n",
              "      <td>1</td>\n",
              "      <td>0</td>\n",
              "      <td>0</td>\n",
              "      <td>0</td>\n",
              "      <td>0</td>\n",
              "      <td>0</td>\n",
              "      <td>0</td>\n",
              "      <td>0</td>\n",
              "      <td>0</td>\n",
              "      <td>0</td>\n",
              "      <td>0</td>\n",
              "      <td>0</td>\n",
              "      <td>0</td>\n",
              "      <td>0</td>\n",
              "      <td>0</td>\n",
              "      <td>0</td>\n",
              "      <td>0</td>\n",
              "      <td>0</td>\n",
              "      <td>0</td>\n",
              "      <td>0</td>\n",
              "      <td>0</td>\n",
              "      <td>0</td>\n",
              "      <td>0</td>\n",
              "    </tr>\n",
              "    <tr>\n",
              "      <th>4</th>\n",
              "      <td>1</td>\n",
              "      <td>56</td>\n",
              "      <td>1</td>\n",
              "      <td>284.79</td>\n",
              "      <td>0.0</td>\n",
              "      <td>90</td>\n",
              "      <td>0</td>\n",
              "      <td>0</td>\n",
              "      <td>0</td>\n",
              "      <td>0</td>\n",
              "      <td>0</td>\n",
              "      <td>1</td>\n",
              "      <td>0</td>\n",
              "      <td>0</td>\n",
              "      <td>0</td>\n",
              "      <td>0</td>\n",
              "      <td>0</td>\n",
              "      <td>0</td>\n",
              "      <td>0</td>\n",
              "      <td>0</td>\n",
              "      <td>0</td>\n",
              "      <td>0</td>\n",
              "      <td>0</td>\n",
              "      <td>1</td>\n",
              "      <td>0</td>\n",
              "      <td>0</td>\n",
              "      <td>0</td>\n",
              "      <td>0</td>\n",
              "      <td>0</td>\n",
              "      <td>1</td>\n",
              "      <td>0</td>\n",
              "      <td>0</td>\n",
              "      <td>0</td>\n",
              "      <td>0</td>\n",
              "      <td>0</td>\n",
              "      <td>0</td>\n",
              "      <td>0</td>\n",
              "      <td>0</td>\n",
              "      <td>0</td>\n",
              "      <td>0</td>\n",
              "      <td>0</td>\n",
              "      <td>0</td>\n",
              "      <td>0</td>\n",
              "      <td>0</td>\n",
              "      <td>0</td>\n",
              "      <td>0</td>\n",
              "      <td>0</td>\n",
              "      <td>0</td>\n",
              "      <td>0</td>\n",
              "      <td>0</td>\n",
              "      <td>0</td>\n",
              "      <td>0</td>\n",
              "    </tr>\n",
              "  </tbody>\n",
              "</table>\n",
              "</div>"
            ],
            "text/plain": [
              "   X0  humidity  wind_speed  ...  time_21:00:00  time_22:00:00  time_23:00:00\n",
              "0   1        63           1  ...              0              0              0\n",
              "1   1        63           1  ...              0              0              0\n",
              "2   1        56           1  ...              0              0              0\n",
              "3   1        56           1  ...              0              0              0\n",
              "4   1        56           1  ...              0              0              0\n",
              "\n",
              "[5 rows x 52 columns]"
            ]
          },
          "metadata": {
            "tags": []
          },
          "execution_count": 1471
        }
      ]
    },
    {
      "cell_type": "code",
      "metadata": {
        "id": "Mwaqy_QEEPcU",
        "colab_type": "code",
        "colab": {}
      },
      "source": [
        "#\n",
        "y_pred=linearreg.predict(df_test)"
      ],
      "execution_count": null,
      "outputs": []
    },
    {
      "cell_type": "code",
      "metadata": {
        "id": "XBQKb0v3FYTB",
        "colab_type": "code",
        "colab": {
          "base_uri": "https://localhost:8080/",
          "height": 255
        },
        "outputId": "c1279147-c52c-4080-9b2a-05cf62d60ff4"
      },
      "source": [
        "#To retrieve the intercept:\n",
        "print(linearreg.intercept_)\n",
        "#For retrieving the slope:\n",
        "print(linearreg.coef_)"
      ],
      "execution_count": null,
      "outputs": [
        {
          "output_type": "stream",
          "text": [
            "-493208354918.64087\n",
            "[-2.16633652e+05 -1.86572863e+00  1.52963014e+01  6.13370227e+00\n",
            " -1.24283415e-02 -7.45588238e-01  1.47642854e+02  2.01928713e+02\n",
            "  1.85560419e+02  5.82552808e+01  1.25955950e+02  1.25082185e+02\n",
            "  1.62349686e+02 -3.77144108e+02  6.18378719e+01 -4.73744045e+01\n",
            " -3.67376104e+10 -3.67376109e+10 -3.67376103e+10 -3.67376103e+10\n",
            " -3.67376106e+10 -3.67376104e+10 -3.67376098e+10 -3.67376105e+10\n",
            " -3.67376108e+10 -3.67376104e+10 -3.67376106e+10 -3.67376106e+10\n",
            "  5.29946181e+11  5.29946181e+11  5.29946181e+11  5.29946181e+11\n",
            "  5.29946181e+11  5.29946182e+11  5.29946184e+11  5.29946185e+11\n",
            "  5.29946185e+11  5.29946185e+11  5.29946184e+11  5.29946185e+11\n",
            "  5.29946185e+11  5.29946185e+11  5.29946185e+11  5.29946185e+11\n",
            "  5.29946186e+11  5.29946186e+11  5.29946185e+11  5.29946183e+11\n",
            "  5.29946183e+11  5.29946183e+11  5.29946182e+11  5.29946182e+11]\n"
          ],
          "name": "stdout"
        }
      ]
    },
    {
      "cell_type": "code",
      "metadata": {
        "id": "CNkZxuG7HuUs",
        "colab_type": "code",
        "colab": {
          "base_uri": "https://localhost:8080/",
          "height": 1000
        },
        "outputId": "6b213be8-16b7-4482-fd99-fa4f95b94bbc"
      },
      "source": [
        "coeff_df = pd.DataFrame(linearreg.coef_, train.columns, columns=['Coefficient'])  \n",
        "coeff_df"
      ],
      "execution_count": null,
      "outputs": [
        {
          "output_type": "execute_result",
          "data": {
            "text/html": [
              "<div>\n",
              "<style scoped>\n",
              "    .dataframe tbody tr th:only-of-type {\n",
              "        vertical-align: middle;\n",
              "    }\n",
              "\n",
              "    .dataframe tbody tr th {\n",
              "        vertical-align: top;\n",
              "    }\n",
              "\n",
              "    .dataframe thead th {\n",
              "        text-align: right;\n",
              "    }\n",
              "</style>\n",
              "<table border=\"1\" class=\"dataframe\">\n",
              "  <thead>\n",
              "    <tr style=\"text-align: right;\">\n",
              "      <th></th>\n",
              "      <th>Coefficient</th>\n",
              "    </tr>\n",
              "  </thead>\n",
              "  <tbody>\n",
              "    <tr>\n",
              "      <th>X0</th>\n",
              "      <td>-2.166337e+05</td>\n",
              "    </tr>\n",
              "    <tr>\n",
              "      <th>humidity</th>\n",
              "      <td>-1.865729e+00</td>\n",
              "    </tr>\n",
              "    <tr>\n",
              "      <th>wind_speed</th>\n",
              "      <td>1.529630e+01</td>\n",
              "    </tr>\n",
              "    <tr>\n",
              "      <th>temperature</th>\n",
              "      <td>6.133702e+00</td>\n",
              "    </tr>\n",
              "    <tr>\n",
              "      <th>rain_p_h</th>\n",
              "      <td>-1.242834e-02</td>\n",
              "    </tr>\n",
              "    <tr>\n",
              "      <th>clouds_all</th>\n",
              "      <td>-7.455882e-01</td>\n",
              "    </tr>\n",
              "    <tr>\n",
              "      <th>weather_type_Clear</th>\n",
              "      <td>1.476429e+02</td>\n",
              "    </tr>\n",
              "    <tr>\n",
              "      <th>weather_type_Clouds</th>\n",
              "      <td>2.019287e+02</td>\n",
              "    </tr>\n",
              "    <tr>\n",
              "      <th>weather_type_Drizzle</th>\n",
              "      <td>1.855604e+02</td>\n",
              "    </tr>\n",
              "    <tr>\n",
              "      <th>weather_type_Fog</th>\n",
              "      <td>5.825528e+01</td>\n",
              "    </tr>\n",
              "    <tr>\n",
              "      <th>weather_type_Haze</th>\n",
              "      <td>1.259560e+02</td>\n",
              "    </tr>\n",
              "    <tr>\n",
              "      <th>weather_type_Mist</th>\n",
              "      <td>1.250822e+02</td>\n",
              "    </tr>\n",
              "    <tr>\n",
              "      <th>weather_type_Rain</th>\n",
              "      <td>1.623497e+02</td>\n",
              "    </tr>\n",
              "    <tr>\n",
              "      <th>weather_type_Smoke</th>\n",
              "      <td>-3.771441e+02</td>\n",
              "    </tr>\n",
              "    <tr>\n",
              "      <th>weather_type_Snow</th>\n",
              "      <td>6.183787e+01</td>\n",
              "    </tr>\n",
              "    <tr>\n",
              "      <th>weather_type_Thunderstorm</th>\n",
              "      <td>-4.737440e+01</td>\n",
              "    </tr>\n",
              "    <tr>\n",
              "      <th>is_holiday_Christmas Day</th>\n",
              "      <td>-3.673761e+10</td>\n",
              "    </tr>\n",
              "    <tr>\n",
              "      <th>is_holiday_Columbus Day</th>\n",
              "      <td>-3.673761e+10</td>\n",
              "    </tr>\n",
              "    <tr>\n",
              "      <th>is_holiday_Independence Day</th>\n",
              "      <td>-3.673761e+10</td>\n",
              "    </tr>\n",
              "    <tr>\n",
              "      <th>is_holiday_Labor Day</th>\n",
              "      <td>-3.673761e+10</td>\n",
              "    </tr>\n",
              "    <tr>\n",
              "      <th>is_holiday_Martin Luther King Jr Day</th>\n",
              "      <td>-3.673761e+10</td>\n",
              "    </tr>\n",
              "    <tr>\n",
              "      <th>is_holiday_Memorial Day</th>\n",
              "      <td>-3.673761e+10</td>\n",
              "    </tr>\n",
              "    <tr>\n",
              "      <th>is_holiday_New Years Day</th>\n",
              "      <td>-3.673761e+10</td>\n",
              "    </tr>\n",
              "    <tr>\n",
              "      <th>is_holiday_None</th>\n",
              "      <td>-3.673761e+10</td>\n",
              "    </tr>\n",
              "    <tr>\n",
              "      <th>is_holiday_State Fair</th>\n",
              "      <td>-3.673761e+10</td>\n",
              "    </tr>\n",
              "    <tr>\n",
              "      <th>is_holiday_Thanksgiving Day</th>\n",
              "      <td>-3.673761e+10</td>\n",
              "    </tr>\n",
              "    <tr>\n",
              "      <th>is_holiday_Veterans Day</th>\n",
              "      <td>-3.673761e+10</td>\n",
              "    </tr>\n",
              "    <tr>\n",
              "      <th>is_holiday_Washingtons Birthday</th>\n",
              "      <td>-3.673761e+10</td>\n",
              "    </tr>\n",
              "    <tr>\n",
              "      <th>time_00:00:00</th>\n",
              "      <td>5.299462e+11</td>\n",
              "    </tr>\n",
              "    <tr>\n",
              "      <th>time_01:00:00</th>\n",
              "      <td>5.299462e+11</td>\n",
              "    </tr>\n",
              "    <tr>\n",
              "      <th>time_02:00:00</th>\n",
              "      <td>5.299462e+11</td>\n",
              "    </tr>\n",
              "    <tr>\n",
              "      <th>time_03:00:00</th>\n",
              "      <td>5.299462e+11</td>\n",
              "    </tr>\n",
              "    <tr>\n",
              "      <th>time_04:00:00</th>\n",
              "      <td>5.299462e+11</td>\n",
              "    </tr>\n",
              "    <tr>\n",
              "      <th>time_05:00:00</th>\n",
              "      <td>5.299462e+11</td>\n",
              "    </tr>\n",
              "    <tr>\n",
              "      <th>time_06:00:00</th>\n",
              "      <td>5.299462e+11</td>\n",
              "    </tr>\n",
              "    <tr>\n",
              "      <th>time_07:00:00</th>\n",
              "      <td>5.299462e+11</td>\n",
              "    </tr>\n",
              "    <tr>\n",
              "      <th>time_08:00:00</th>\n",
              "      <td>5.299462e+11</td>\n",
              "    </tr>\n",
              "    <tr>\n",
              "      <th>time_09:00:00</th>\n",
              "      <td>5.299462e+11</td>\n",
              "    </tr>\n",
              "    <tr>\n",
              "      <th>time_10:00:00</th>\n",
              "      <td>5.299462e+11</td>\n",
              "    </tr>\n",
              "    <tr>\n",
              "      <th>time_11:00:00</th>\n",
              "      <td>5.299462e+11</td>\n",
              "    </tr>\n",
              "    <tr>\n",
              "      <th>time_12:00:00</th>\n",
              "      <td>5.299462e+11</td>\n",
              "    </tr>\n",
              "    <tr>\n",
              "      <th>time_13:00:00</th>\n",
              "      <td>5.299462e+11</td>\n",
              "    </tr>\n",
              "    <tr>\n",
              "      <th>time_14:00:00</th>\n",
              "      <td>5.299462e+11</td>\n",
              "    </tr>\n",
              "    <tr>\n",
              "      <th>time_15:00:00</th>\n",
              "      <td>5.299462e+11</td>\n",
              "    </tr>\n",
              "    <tr>\n",
              "      <th>time_16:00:00</th>\n",
              "      <td>5.299462e+11</td>\n",
              "    </tr>\n",
              "    <tr>\n",
              "      <th>time_17:00:00</th>\n",
              "      <td>5.299462e+11</td>\n",
              "    </tr>\n",
              "    <tr>\n",
              "      <th>time_18:00:00</th>\n",
              "      <td>5.299462e+11</td>\n",
              "    </tr>\n",
              "    <tr>\n",
              "      <th>time_19:00:00</th>\n",
              "      <td>5.299462e+11</td>\n",
              "    </tr>\n",
              "    <tr>\n",
              "      <th>time_20:00:00</th>\n",
              "      <td>5.299462e+11</td>\n",
              "    </tr>\n",
              "    <tr>\n",
              "      <th>time_21:00:00</th>\n",
              "      <td>5.299462e+11</td>\n",
              "    </tr>\n",
              "    <tr>\n",
              "      <th>time_22:00:00</th>\n",
              "      <td>5.299462e+11</td>\n",
              "    </tr>\n",
              "    <tr>\n",
              "      <th>time_23:00:00</th>\n",
              "      <td>5.299462e+11</td>\n",
              "    </tr>\n",
              "  </tbody>\n",
              "</table>\n",
              "</div>"
            ],
            "text/plain": [
              "                                       Coefficient\n",
              "X0                                   -2.166337e+05\n",
              "humidity                             -1.865729e+00\n",
              "wind_speed                            1.529630e+01\n",
              "temperature                           6.133702e+00\n",
              "rain_p_h                             -1.242834e-02\n",
              "clouds_all                           -7.455882e-01\n",
              "weather_type_Clear                    1.476429e+02\n",
              "weather_type_Clouds                   2.019287e+02\n",
              "weather_type_Drizzle                  1.855604e+02\n",
              "weather_type_Fog                      5.825528e+01\n",
              "weather_type_Haze                     1.259560e+02\n",
              "weather_type_Mist                     1.250822e+02\n",
              "weather_type_Rain                     1.623497e+02\n",
              "weather_type_Smoke                   -3.771441e+02\n",
              "weather_type_Snow                     6.183787e+01\n",
              "weather_type_Thunderstorm            -4.737440e+01\n",
              "is_holiday_Christmas Day             -3.673761e+10\n",
              "is_holiday_Columbus Day              -3.673761e+10\n",
              "is_holiday_Independence Day          -3.673761e+10\n",
              "is_holiday_Labor Day                 -3.673761e+10\n",
              "is_holiday_Martin Luther King Jr Day -3.673761e+10\n",
              "is_holiday_Memorial Day              -3.673761e+10\n",
              "is_holiday_New Years Day             -3.673761e+10\n",
              "is_holiday_None                      -3.673761e+10\n",
              "is_holiday_State Fair                -3.673761e+10\n",
              "is_holiday_Thanksgiving Day          -3.673761e+10\n",
              "is_holiday_Veterans Day              -3.673761e+10\n",
              "is_holiday_Washingtons Birthday      -3.673761e+10\n",
              "time_00:00:00                         5.299462e+11\n",
              "time_01:00:00                         5.299462e+11\n",
              "time_02:00:00                         5.299462e+11\n",
              "time_03:00:00                         5.299462e+11\n",
              "time_04:00:00                         5.299462e+11\n",
              "time_05:00:00                         5.299462e+11\n",
              "time_06:00:00                         5.299462e+11\n",
              "time_07:00:00                         5.299462e+11\n",
              "time_08:00:00                         5.299462e+11\n",
              "time_09:00:00                         5.299462e+11\n",
              "time_10:00:00                         5.299462e+11\n",
              "time_11:00:00                         5.299462e+11\n",
              "time_12:00:00                         5.299462e+11\n",
              "time_13:00:00                         5.299462e+11\n",
              "time_14:00:00                         5.299462e+11\n",
              "time_15:00:00                         5.299462e+11\n",
              "time_16:00:00                         5.299462e+11\n",
              "time_17:00:00                         5.299462e+11\n",
              "time_18:00:00                         5.299462e+11\n",
              "time_19:00:00                         5.299462e+11\n",
              "time_20:00:00                         5.299462e+11\n",
              "time_21:00:00                         5.299462e+11\n",
              "time_22:00:00                         5.299462e+11\n",
              "time_23:00:00                         5.299462e+11"
            ]
          },
          "metadata": {
            "tags": []
          },
          "execution_count": 1474
        }
      ]
    },
    {
      "cell_type": "code",
      "metadata": {
        "id": "1bTtniRqHzqd",
        "colab_type": "code",
        "colab": {}
      },
      "source": [
        "columns = ['date_time','traffic_volume']\n",
        "df_final = pd.DataFrame(columns=columns)"
      ],
      "execution_count": null,
      "outputs": []
    },
    {
      "cell_type": "code",
      "metadata": {
        "id": "8guo7v6pIkIW",
        "colab_type": "code",
        "colab": {}
      },
      "source": [
        "df_final['date_time'] = date_time\n",
        "df_final['traffic_volume'] = y_pred"
      ],
      "execution_count": null,
      "outputs": []
    },
    {
      "cell_type": "code",
      "metadata": {
        "id": "vm_1FUBMIuMT",
        "colab_type": "code",
        "colab": {
          "base_uri": "https://localhost:8080/",
          "height": 34
        },
        "outputId": "33fa5541-f2d2-4f36-966a-e35c7f655ef6"
      },
      "source": [
        "df_final.shape"
      ],
      "execution_count": null,
      "outputs": [
        {
          "output_type": "execute_result",
          "data": {
            "text/plain": [
              "(14454, 2)"
            ]
          },
          "metadata": {
            "tags": []
          },
          "execution_count": 1477
        }
      ]
    },
    {
      "cell_type": "code",
      "metadata": {
        "id": "nN7vbZ-WI1E0",
        "colab_type": "code",
        "colab": {
          "base_uri": "https://localhost:8080/",
          "height": 204
        },
        "outputId": "29ca8b98-6844-4c81-ef31-b6319a087168"
      },
      "source": [
        "df_final.head()"
      ],
      "execution_count": null,
      "outputs": [
        {
          "output_type": "execute_result",
          "data": {
            "text/html": [
              "<div>\n",
              "<style scoped>\n",
              "    .dataframe tbody tr th:only-of-type {\n",
              "        vertical-align: middle;\n",
              "    }\n",
              "\n",
              "    .dataframe tbody tr th {\n",
              "        vertical-align: top;\n",
              "    }\n",
              "\n",
              "    .dataframe thead th {\n",
              "        text-align: right;\n",
              "    }\n",
              "</style>\n",
              "<table border=\"1\" class=\"dataframe\">\n",
              "  <thead>\n",
              "    <tr style=\"text-align: right;\">\n",
              "      <th></th>\n",
              "      <th>date_time</th>\n",
              "      <th>traffic_volume</th>\n",
              "    </tr>\n",
              "  </thead>\n",
              "  <tbody>\n",
              "    <tr>\n",
              "      <th>0</th>\n",
              "      <td>2017-05-18 00:00:00</td>\n",
              "      <td>811.956299</td>\n",
              "    </tr>\n",
              "    <tr>\n",
              "      <th>1</th>\n",
              "      <td>2017-05-18 00:00:00</td>\n",
              "      <td>774.688782</td>\n",
              "    </tr>\n",
              "    <tr>\n",
              "      <th>2</th>\n",
              "      <td>2017-05-18 00:00:00</td>\n",
              "      <td>848.227112</td>\n",
              "    </tr>\n",
              "    <tr>\n",
              "      <th>3</th>\n",
              "      <td>2017-05-18 01:00:00</td>\n",
              "      <td>522.193604</td>\n",
              "    </tr>\n",
              "    <tr>\n",
              "      <th>4</th>\n",
              "      <td>2017-05-18 01:00:00</td>\n",
              "      <td>484.926147</td>\n",
              "    </tr>\n",
              "  </tbody>\n",
              "</table>\n",
              "</div>"
            ],
            "text/plain": [
              "            date_time  traffic_volume\n",
              "0 2017-05-18 00:00:00      811.956299\n",
              "1 2017-05-18 00:00:00      774.688782\n",
              "2 2017-05-18 00:00:00      848.227112\n",
              "3 2017-05-18 01:00:00      522.193604\n",
              "4 2017-05-18 01:00:00      484.926147"
            ]
          },
          "metadata": {
            "tags": []
          },
          "execution_count": 1478
        }
      ]
    },
    {
      "cell_type": "code",
      "metadata": {
        "id": "pd60ncn4I2WB",
        "colab_type": "code",
        "colab": {}
      },
      "source": [
        "df_final.to_csv('Submission.csv',index = False)"
      ],
      "execution_count": null,
      "outputs": []
    },
    {
      "cell_type": "markdown",
      "metadata": {
        "id": "sTzIgE5UJe07",
        "colab_type": "text"
      },
      "source": [
        "### some cleaning"
      ]
    },
    {
      "cell_type": "code",
      "metadata": {
        "id": "X3oulpwCJQMk",
        "colab_type": "code",
        "colab": {
          "base_uri": "https://localhost:8080/",
          "height": 297
        },
        "outputId": "2d385df9-89d9-4e56-ccce-57747bf83730"
      },
      "source": [
        "df_final.describe()"
      ],
      "execution_count": null,
      "outputs": [
        {
          "output_type": "execute_result",
          "data": {
            "text/html": [
              "<div>\n",
              "<style scoped>\n",
              "    .dataframe tbody tr th:only-of-type {\n",
              "        vertical-align: middle;\n",
              "    }\n",
              "\n",
              "    .dataframe tbody tr th {\n",
              "        vertical-align: top;\n",
              "    }\n",
              "\n",
              "    .dataframe thead th {\n",
              "        text-align: right;\n",
              "    }\n",
              "</style>\n",
              "<table border=\"1\" class=\"dataframe\">\n",
              "  <thead>\n",
              "    <tr style=\"text-align: right;\">\n",
              "      <th></th>\n",
              "      <th>traffic_volume</th>\n",
              "    </tr>\n",
              "  </thead>\n",
              "  <tbody>\n",
              "    <tr>\n",
              "      <th>count</th>\n",
              "      <td>14454.000000</td>\n",
              "    </tr>\n",
              "    <tr>\n",
              "      <th>mean</th>\n",
              "      <td>3284.142930</td>\n",
              "    </tr>\n",
              "    <tr>\n",
              "      <th>std</th>\n",
              "      <td>1751.563531</td>\n",
              "    </tr>\n",
              "    <tr>\n",
              "      <th>min</th>\n",
              "      <td>69.670410</td>\n",
              "    </tr>\n",
              "    <tr>\n",
              "      <th>25%</th>\n",
              "      <td>1651.303604</td>\n",
              "    </tr>\n",
              "    <tr>\n",
              "      <th>50%</th>\n",
              "      <td>4152.413086</td>\n",
              "    </tr>\n",
              "    <tr>\n",
              "      <th>75%</th>\n",
              "      <td>4710.264465</td>\n",
              "    </tr>\n",
              "    <tr>\n",
              "      <th>max</th>\n",
              "      <td>5958.275940</td>\n",
              "    </tr>\n",
              "  </tbody>\n",
              "</table>\n",
              "</div>"
            ],
            "text/plain": [
              "       traffic_volume\n",
              "count    14454.000000\n",
              "mean      3284.142930\n",
              "std       1751.563531\n",
              "min         69.670410\n",
              "25%       1651.303604\n",
              "50%       4152.413086\n",
              "75%       4710.264465\n",
              "max       5958.275940"
            ]
          },
          "metadata": {
            "tags": []
          },
          "execution_count": 1480
        }
      ]
    },
    {
      "cell_type": "code",
      "metadata": {
        "id": "CmXECk-FHLRG",
        "colab_type": "code",
        "colab": {
          "base_uri": "https://localhost:8080/",
          "height": 68
        },
        "outputId": "9264263d-79f4-4e95-b666-9de9c11e910b"
      },
      "source": [
        "df_final.dtypes"
      ],
      "execution_count": null,
      "outputs": [
        {
          "output_type": "execute_result",
          "data": {
            "text/plain": [
              "date_time         datetime64[ns]\n",
              "traffic_volume           float64\n",
              "dtype: object"
            ]
          },
          "metadata": {
            "tags": []
          },
          "execution_count": 1395
        }
      ]
    },
    {
      "cell_type": "code",
      "metadata": {
        "id": "a8HRFPCVqikh",
        "colab_type": "code",
        "colab": {
          "base_uri": "https://localhost:8080/",
          "height": 102
        },
        "outputId": "c700df5c-e050-47e1-ddf0-c6fc781d39e0"
      },
      "source": [
        "df_final.traffic_volume[df_final.traffic_volume < 0] = 0"
      ],
      "execution_count": null,
      "outputs": [
        {
          "output_type": "stream",
          "text": [
            "/usr/local/lib/python3.6/dist-packages/ipykernel_launcher.py:1: SettingWithCopyWarning: \n",
            "A value is trying to be set on a copy of a slice from a DataFrame\n",
            "\n",
            "See the caveats in the documentation: http://pandas.pydata.org/pandas-docs/stable/indexing.html#indexing-view-versus-copy\n",
            "  \"\"\"Entry point for launching an IPython kernel.\n"
          ],
          "name": "stderr"
        }
      ]
    },
    {
      "cell_type": "code",
      "metadata": {
        "id": "i9vB8G81qlMQ",
        "colab_type": "code",
        "colab": {
          "base_uri": "https://localhost:8080/",
          "height": 170
        },
        "outputId": "b5921836-cba0-4d90-d31a-94617aa48146"
      },
      "source": [
        "df_final.traffic_volume.describe()"
      ],
      "execution_count": null,
      "outputs": [
        {
          "output_type": "execute_result",
          "data": {
            "text/plain": [
              "count    14454.000000\n",
              "mean      3284.142930\n",
              "std       1751.563531\n",
              "min         69.670410\n",
              "25%       1651.303604\n",
              "50%       4152.413086\n",
              "75%       4710.264465\n",
              "max       5958.275940\n",
              "Name: traffic_volume, dtype: float64"
            ]
          },
          "metadata": {
            "tags": []
          },
          "execution_count": 1397
        }
      ]
    },
    {
      "cell_type": "code",
      "metadata": {
        "id": "j00t6dOnqoBA",
        "colab_type": "code",
        "colab": {
          "base_uri": "https://localhost:8080/",
          "height": 49
        },
        "outputId": "b1058576-de32-4e3b-ccc0-801009ae0006"
      },
      "source": [
        "df_final.loc[df_final['traffic_volume'] == 0]"
      ],
      "execution_count": null,
      "outputs": [
        {
          "output_type": "execute_result",
          "data": {
            "text/html": [
              "<div>\n",
              "<style scoped>\n",
              "    .dataframe tbody tr th:only-of-type {\n",
              "        vertical-align: middle;\n",
              "    }\n",
              "\n",
              "    .dataframe tbody tr th {\n",
              "        vertical-align: top;\n",
              "    }\n",
              "\n",
              "    .dataframe thead th {\n",
              "        text-align: right;\n",
              "    }\n",
              "</style>\n",
              "<table border=\"1\" class=\"dataframe\">\n",
              "  <thead>\n",
              "    <tr style=\"text-align: right;\">\n",
              "      <th></th>\n",
              "      <th>date_time</th>\n",
              "      <th>traffic_volume</th>\n",
              "    </tr>\n",
              "  </thead>\n",
              "  <tbody>\n",
              "  </tbody>\n",
              "</table>\n",
              "</div>"
            ],
            "text/plain": [
              "Empty DataFrame\n",
              "Columns: [date_time, traffic_volume]\n",
              "Index: []"
            ]
          },
          "metadata": {
            "tags": []
          },
          "execution_count": 1398
        }
      ]
    },
    {
      "cell_type": "code",
      "metadata": {
        "id": "44jt51vdqrH8",
        "colab_type": "code",
        "colab": {}
      },
      "source": [
        "df_final.to_csv('Submission.csv',index = False)"
      ],
      "execution_count": null,
      "outputs": []
    },
    {
      "cell_type": "code",
      "metadata": {
        "id": "kKchjSjaqxEb",
        "colab_type": "code",
        "colab": {}
      },
      "source": [
        ""
      ],
      "execution_count": null,
      "outputs": []
    }
  ]
}